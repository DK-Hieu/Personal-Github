{
 "cells": [
  {
   "cell_type": "code",
   "execution_count": 1,
   "metadata": {},
   "outputs": [],
   "source": [
    "import findspark #cai dat findspark cho env\n",
    "findspark.init()\n",
    "findspark.find()\n",
    "import pyspark"
   ]
  },
  {
   "cell_type": "code",
   "execution_count": 26,
   "metadata": {},
   "outputs": [],
   "source": [
    "from pyspark.sql import SparkSession\n",
    "from pyspark.sql import SQLContext\n",
    "from pyspark.sql.functions import when\n",
    "from pyspark.sql.functions import col\n",
    "from pyspark.sql.functions import sum\n",
    "from pyspark.sql.types import * \n",
    "from pyspark.sql.functions import lit\n",
    "import pyodbc\n",
    "import pandas as pd\n",
    "import pyspark.sql.functions as sf"
   ]
  },
  {
   "cell_type": "code",
   "execution_count": 3,
   "metadata": {},
   "outputs": [],
   "source": [
    "spark = SparkSession.builder.config(\"spark.driver.memory\", \"6g\").getOrCreate()"
   ]
  },
  {
   "cell_type": "code",
   "execution_count": 4,
   "metadata": {},
   "outputs": [],
   "source": [
    "path = 'D:\\\\Bigdata\\\\Dataset\\\\'\n",
    "file_name = '20220401.json'\n",
    "date = '2022-04-01'"
   ]
  },
  {
   "cell_type": "code",
   "execution_count": 5,
   "metadata": {},
   "outputs": [
    {
     "name": "stdout",
     "output_type": "stream",
     "text": [
      "root\n",
      " |-- _id: string (nullable = true)\n",
      " |-- _index: string (nullable = true)\n",
      " |-- _score: long (nullable = true)\n",
      " |-- _source: struct (nullable = true)\n",
      " |    |-- AppName: string (nullable = true)\n",
      " |    |-- Contract: string (nullable = true)\n",
      " |    |-- Mac: string (nullable = true)\n",
      " |    |-- TotalDuration: long (nullable = true)\n",
      " |-- _type: string (nullable = true)\n",
      "\n"
     ]
    }
   ],
   "source": [
    "df = spark.read.json(path+file_name)\n",
    "df.printSchema()"
   ]
  },
  {
   "cell_type": "code",
   "execution_count": 6,
   "metadata": {},
   "outputs": [
    {
     "name": "stdout",
     "output_type": "stream",
     "text": [
      "+--------------------+-------+------+--------------------+-----+\n",
      "|                 _id| _index|_score|             _source|_type|\n",
      "+--------------------+-------+------+--------------------+-----+\n",
      "|AX_momhia1FFivsGrn9o|history|     0|{KPLUS, HNH579912...|kplus|\n",
      "|AX_momhca1FFivsGrnvg|history|     0|{KPLUS, HUFD40665...|kplus|\n",
      "|AX_momhaa1FFivsGrnny|history|     0|{KPLUS, HNH572635...|kplus|\n",
      "|AX_momhca1FFivsGrnvv|history|     0|{KPLUS, HND141717...|kplus|\n",
      "|AX_momhia1FFivsGrn98|history|     0|{KPLUS, HNH743103...|kplus|\n",
      "|AX_momg9a1FFivsGrnkS|history|     0|{KPLUS, HNH893773...|kplus|\n",
      "|AX_momhca1FFivsGrnwA|history|     0|{KPLUS, HND083642...|kplus|\n",
      "|AX_momhfa1FFivsGrn2u|history|     0|{KPLUS, DNFD74404...|kplus|\n",
      "|AX_momhca1FFivsGrnwP|history|     0|{KPLUS, DTFD21200...|kplus|\n",
      "|AX_momhca1FFivsGrnwU|history|     0|{KPLUS, LDFD05747...|kplus|\n",
      "|AX_momhfa1FFivsGrn24|history|     0|{KPLUS, HNH063566...|kplus|\n",
      "|AX_momhia1FFivsGrn-W|history|     0|{KPLUS, HNH866786...|kplus|\n",
      "|AX_momhia1FFivsGrn-a|history|     0|{KPLUS, NBAAA1128...|kplus|\n",
      "|AX_momhfa1FFivsGrn3J|history|     0|{KPLUS, HNH960439...|kplus|\n",
      "|AX_momhia1FFivsGrn-k|history|     0|{KPLUS, HNJ035736...|kplus|\n",
      "|AX_momhaa1FFivsGrnol|history|     0|{KPLUS, NTFD93673...|kplus|\n",
      "|AX_momhaa1FFivsGrnoq|history|     0|{KPLUS, HNJ063267...|kplus|\n",
      "|AX_momg9a1FFivsGrnlF|history|     0|{KPLUS, HNH790383...|kplus|\n",
      "|AX_momhia1FFivsGrn-4|history|     0|{KPLUS, THFD12466...|kplus|\n",
      "|AX_momhia1FFivsGrn-9|history|     0|{KPLUS, HNH566080...|kplus|\n",
      "+--------------------+-------+------+--------------------+-----+\n",
      "only showing top 20 rows\n",
      "\n"
     ]
    }
   ],
   "source": [
    "df.show()"
   ]
  },
  {
   "cell_type": "code",
   "execution_count": 7,
   "metadata": {},
   "outputs": [
    {
     "name": "stdout",
     "output_type": "stream",
     "text": [
      "1654519\n",
      "1360622\n",
      "+---------+-------+-------------+\n",
      "| Contract|Appname|TotalDuration|\n",
      "+---------+-------+-------------+\n",
      "|HNH579912|  KPLUS|          254|\n",
      "|HUFD40665|  KPLUS|         1457|\n",
      "|HNH572635|  KPLUS|         2318|\n",
      "|HND141717|  KPLUS|         1452|\n",
      "|HNH743103|  KPLUS|          251|\n",
      "|HNH893773|  KPLUS|          924|\n",
      "|HND083642|  KPLUS|         1444|\n",
      "|DNFD74404|  KPLUS|          691|\n",
      "|DTFD21200|  KPLUS|         1436|\n",
      "|LDFD05747|  KPLUS|         1434|\n",
      "|HNH063566|  KPLUS|          687|\n",
      "|HNH866786|  KPLUS|          248|\n",
      "|NBAAA1128|  KPLUS|          247|\n",
      "|HNH960439|  KPLUS|          683|\n",
      "|HNJ035736|  KPLUS|          246|\n",
      "|NTFD93673|  KPLUS|         2288|\n",
      "|HNJ063267|  KPLUS|         2282|\n",
      "|HNH790383|  KPLUS|          906|\n",
      "|THFD12466|  KPLUS|          242|\n",
      "|HNH566080|  KPLUS|          242|\n",
      "+---------+-------+-------------+\n",
      "only showing top 20 rows\n",
      "\n"
     ]
    }
   ],
   "source": [
    "df1 = df.select('_source.Contract','_source.Appname','_source.TotalDuration')\n",
    "print(df1.count())\n",
    "print(df1.select('Contract').distinct().count())\n",
    "df1.show()"
   ]
  },
  {
   "cell_type": "code",
   "execution_count": 8,
   "metadata": {},
   "outputs": [
    {
     "name": "stdout",
     "output_type": "stream",
     "text": [
      "+---------+-------+-------------+-----------+\n",
      "| Contract|Appname|TotalDuration|       Type|\n",
      "+---------+-------+-------------+-----------+\n",
      "|HNH579912|  KPLUS|          254|Truyền Hình|\n",
      "|HUFD40665|  KPLUS|         1457|Truyền Hình|\n",
      "|HNH572635|  KPLUS|         2318|Truyền Hình|\n",
      "|HND141717|  KPLUS|         1452|Truyền Hình|\n",
      "|HNH743103|  KPLUS|          251|Truyền Hình|\n",
      "|HNH893773|  KPLUS|          924|Truyền Hình|\n",
      "|HND083642|  KPLUS|         1444|Truyền Hình|\n",
      "|DNFD74404|  KPLUS|          691|Truyền Hình|\n",
      "|DTFD21200|  KPLUS|         1436|Truyền Hình|\n",
      "|LDFD05747|  KPLUS|         1434|Truyền Hình|\n",
      "|HNH063566|  KPLUS|          687|Truyền Hình|\n",
      "|HNH866786|  KPLUS|          248|Truyền Hình|\n",
      "|NBAAA1128|  KPLUS|          247|Truyền Hình|\n",
      "|HNH960439|  KPLUS|          683|Truyền Hình|\n",
      "|HNJ035736|  KPLUS|          246|Truyền Hình|\n",
      "|NTFD93673|  KPLUS|         2288|Truyền Hình|\n",
      "|HNJ063267|  KPLUS|         2282|Truyền Hình|\n",
      "|HNH790383|  KPLUS|          906|Truyền Hình|\n",
      "|THFD12466|  KPLUS|          242|Truyền Hình|\n",
      "|HNH566080|  KPLUS|          242|Truyền Hình|\n",
      "+---------+-------+-------------+-----------+\n",
      "only showing top 20 rows\n",
      "\n"
     ]
    }
   ],
   "source": [
    "df1 = df1.withColumn(\"Type\",\n",
    "                             when((col(\"AppName\") == 'CHANNEL') | (col(\"AppName\") =='DSHD')| (col(\"AppName\") =='KPLUS')| (col(\"AppName\") =='KPlus'), \"Truyền Hình\")\n",
    "                            .when((col(\"AppName\") == 'VOD') | (col(\"AppName\") =='FIMS_RES')| (col(\"AppName\") =='BHD_RES')| (col(\"AppName\") =='VOD_RES')| (col(\"AppName\") =='FIMS')| (col(\"AppName\") =='BHD')| (col(\"AppName\") =='DANET'), \"Phim Truyện\")\n",
    "                            .when((col(\"AppName\") == 'RELAX'), \"Giải Trí\")\n",
    "                            .when((col(\"AppName\") == 'CHILD'), \"Thiếu Nhi\")\n",
    "                            .when((col(\"AppName\") == 'SPORT'), \"Thể Thao\")\n",
    "                            .otherwise(\"Error\"))\n",
    "df1.show()"
   ]
  },
  {
   "cell_type": "code",
   "execution_count": 9,
   "metadata": {},
   "outputs": [],
   "source": [
    "df1 = df1.withColumn('Date',lit(date))"
   ]
  },
  {
   "cell_type": "code",
   "execution_count": 10,
   "metadata": {},
   "outputs": [
    {
     "name": "stdout",
     "output_type": "stream",
     "text": [
      "+---------+-------+-------------+-----------+----------+\n",
      "| Contract|Appname|TotalDuration|       Type|      Date|\n",
      "+---------+-------+-------------+-----------+----------+\n",
      "|HNH579912|  KPLUS|          254|Truyền Hình|2022-04-01|\n",
      "|HUFD40665|  KPLUS|         1457|Truyền Hình|2022-04-01|\n",
      "|HNH572635|  KPLUS|         2318|Truyền Hình|2022-04-01|\n",
      "|HND141717|  KPLUS|         1452|Truyền Hình|2022-04-01|\n",
      "|HNH743103|  KPLUS|          251|Truyền Hình|2022-04-01|\n",
      "|HNH893773|  KPLUS|          924|Truyền Hình|2022-04-01|\n",
      "|HND083642|  KPLUS|         1444|Truyền Hình|2022-04-01|\n",
      "|DNFD74404|  KPLUS|          691|Truyền Hình|2022-04-01|\n",
      "|DTFD21200|  KPLUS|         1436|Truyền Hình|2022-04-01|\n",
      "|LDFD05747|  KPLUS|         1434|Truyền Hình|2022-04-01|\n",
      "|HNH063566|  KPLUS|          687|Truyền Hình|2022-04-01|\n",
      "|HNH866786|  KPLUS|          248|Truyền Hình|2022-04-01|\n",
      "|NBAAA1128|  KPLUS|          247|Truyền Hình|2022-04-01|\n",
      "|HNH960439|  KPLUS|          683|Truyền Hình|2022-04-01|\n",
      "|HNJ035736|  KPLUS|          246|Truyền Hình|2022-04-01|\n",
      "|NTFD93673|  KPLUS|         2288|Truyền Hình|2022-04-01|\n",
      "|HNJ063267|  KPLUS|         2282|Truyền Hình|2022-04-01|\n",
      "|HNH790383|  KPLUS|          906|Truyền Hình|2022-04-01|\n",
      "|THFD12466|  KPLUS|          242|Truyền Hình|2022-04-01|\n",
      "|HNH566080|  KPLUS|          242|Truyền Hình|2022-04-01|\n",
      "+---------+-------+-------------+-----------+----------+\n",
      "only showing top 20 rows\n",
      "\n"
     ]
    }
   ],
   "source": [
    "df1.show()"
   ]
  },
  {
   "cell_type": "code",
   "execution_count": 11,
   "metadata": {},
   "outputs": [
    {
     "name": "stdout",
     "output_type": "stream",
     "text": [
      "+---------+-----------+-------------+\n",
      "| Contract|       Type|TotalDuration|\n",
      "+---------+-----------+-------------+\n",
      "|HNH579912|Truyền Hình|          254|\n",
      "|HUFD40665|Truyền Hình|         1457|\n",
      "|HNH572635|Truyền Hình|         2318|\n",
      "|HND141717|Truyền Hình|         1452|\n",
      "|HNH743103|Truyền Hình|          251|\n",
      "|HNH893773|Truyền Hình|          924|\n",
      "|HND083642|Truyền Hình|         1444|\n",
      "|DNFD74404|Truyền Hình|          691|\n",
      "|DTFD21200|Truyền Hình|         1436|\n",
      "|LDFD05747|Truyền Hình|         1434|\n",
      "|HNH063566|Truyền Hình|          687|\n",
      "|HNH866786|Truyền Hình|          248|\n",
      "|NBAAA1128|Truyền Hình|          247|\n",
      "|HNH960439|Truyền Hình|          683|\n",
      "|HNJ035736|Truyền Hình|          246|\n",
      "|NTFD93673|Truyền Hình|         2288|\n",
      "|HNJ063267|Truyền Hình|         2282|\n",
      "|HNH790383|Truyền Hình|          906|\n",
      "|THFD12466|Truyền Hình|          242|\n",
      "|HNH566080|Truyền Hình|          242|\n",
      "+---------+-----------+-------------+\n",
      "only showing top 20 rows\n",
      "\n"
     ]
    }
   ],
   "source": [
    "A = df1.select('Contract','Type','TotalDuration')[df1.Type == \"Truyền Hình\"].show()"
   ]
  },
  {
   "cell_type": "code",
   "execution_count": 23,
   "metadata": {},
   "outputs": [
    {
     "name": "stdout",
     "output_type": "stream",
     "text": [
      "+---------+-------+-------------+-----------+----------+\n",
      "| Contract|Appname|TotalDuration|       Type|      Date|\n",
      "+---------+-------+-------------+-----------+----------+\n",
      "|HNH579912|  KPLUS|          254|Truyền Hình|2022-04-01|\n",
      "|HUFD40665|  KPLUS|         1457|Truyền Hình|2022-04-01|\n",
      "|HNH572635|  KPLUS|         2318|Truyền Hình|2022-04-01|\n",
      "|HND141717|  KPLUS|         1452|Truyền Hình|2022-04-01|\n",
      "|HNH743103|  KPLUS|          251|Truyền Hình|2022-04-01|\n",
      "|HNH893773|  KPLUS|          924|Truyền Hình|2022-04-01|\n",
      "|HND083642|  KPLUS|         1444|Truyền Hình|2022-04-01|\n",
      "|DNFD74404|  KPLUS|          691|Truyền Hình|2022-04-01|\n",
      "|DTFD21200|  KPLUS|         1436|Truyền Hình|2022-04-01|\n",
      "|LDFD05747|  KPLUS|         1434|Truyền Hình|2022-04-01|\n",
      "|HNH063566|  KPLUS|          687|Truyền Hình|2022-04-01|\n",
      "|HNH866786|  KPLUS|          248|Truyền Hình|2022-04-01|\n",
      "|NBAAA1128|  KPLUS|          247|Truyền Hình|2022-04-01|\n",
      "|HNH960439|  KPLUS|          683|Truyền Hình|2022-04-01|\n",
      "|HNJ035736|  KPLUS|          246|Truyền Hình|2022-04-01|\n",
      "|NTFD93673|  KPLUS|         2288|Truyền Hình|2022-04-01|\n",
      "|HNJ063267|  KPLUS|         2282|Truyền Hình|2022-04-01|\n",
      "|HNH790383|  KPLUS|          906|Truyền Hình|2022-04-01|\n",
      "|THFD12466|  KPLUS|          242|Truyền Hình|2022-04-01|\n",
      "|HNH566080|  KPLUS|          242|Truyền Hình|2022-04-01|\n",
      "+---------+-------+-------------+-----------+----------+\n",
      "only showing top 20 rows\n",
      "\n"
     ]
    }
   ],
   "source": [
    "df1.show()"
   ]
  },
  {
   "cell_type": "code",
   "execution_count": 27,
   "metadata": {},
   "outputs": [
    {
     "data": {
      "text/plain": [
       "[Row(sum(TotalDuration)=26038134476)]"
      ]
     },
     "execution_count": 27,
     "metadata": {},
     "output_type": "execute_result"
    }
   ],
   "source": [
    "df1.select(sum('TotalDuration')).collect()"
   ]
  },
  {
   "cell_type": "code",
   "execution_count": 28,
   "metadata": {},
   "outputs": [
    {
     "data": {
      "text/plain": [
       "[Row(sum(TotalDuration)=26038134476)]"
      ]
     },
     "execution_count": 28,
     "metadata": {},
     "output_type": "execute_result"
    }
   ],
   "source": [
    "df1.agg({'TotalDuration': 'sum'}).collect()"
   ]
  },
  {
   "cell_type": "code",
   "execution_count": 25,
   "metadata": {},
   "outputs": [
    {
     "name": "stdout",
     "output_type": "stream",
     "text": [
      "+---------+-------+-------------+-----------+----------+\n",
      "| Contract|Appname|TotalDuration|       Type|      Date|\n",
      "+---------+-------+-------------+-----------+----------+\n",
      "|HUFD07189|  KPLUS|          276|Truyền Hình|2022-04-01|\n",
      "|HUFD07189|CHANNEL|         1988|Truyền Hình|2022-04-01|\n",
      "+---------+-------+-------------+-----------+----------+\n",
      "\n"
     ]
    }
   ],
   "source": [
    "df1[df1.Contract == 'HUFD07189'].show()"
   ]
  },
  {
   "cell_type": "code",
   "execution_count": 14,
   "metadata": {},
   "outputs": [
    {
     "name": "stdout",
     "output_type": "stream",
     "text": [
      "+---------+-----------+-----+\n",
      "| Contract|       Type|count|\n",
      "+---------+-----------+-----+\n",
      "|DNH014998|Phim Truyện|    1|\n",
      "|HND486882|Phim Truyện|    1|\n",
      "|HUFD07189|Truyền Hình|    2|\n",
      "|HDFD36288|Truyền Hình|    2|\n",
      "|CTFD04401|Truyền Hình|    2|\n",
      "|HNH954607|Phim Truyện|    1|\n",
      "|HNH855959|Truyền Hình|    2|\n",
      "|SGH034683|Truyền Hình|    1|\n",
      "|NTFD35330|Truyền Hình|    1|\n",
      "|NTFD48198|Phim Truyện|    1|\n",
      "|HNH443856|Truyền Hình|    2|\n",
      "|NAFD05338|Truyền Hình|    1|\n",
      "|LCFD20510|Phim Truyện|    1|\n",
      "|QNFD29007|Truyền Hình|    1|\n",
      "|SGH569599|Truyền Hình|    1|\n",
      "|SGH701752|Truyền Hình|    2|\n",
      "|HNH712164|Phim Truyện|    1|\n",
      "|PYFD01920|Truyền Hình|    1|\n",
      "|HTFD13716|Truyền Hình|    1|\n",
      "|SGJ039473|Truyền Hình|    1|\n",
      "+---------+-----------+-----+\n",
      "only showing top 20 rows\n",
      "\n"
     ]
    }
   ],
   "source": [
    "df_cal = df1.select('Contract','Type','TotalDuration')\n",
    "df_cal_group = df_cal.groupBy('Contract','Type').count()\n",
    "df_cal_group.show()"
   ]
  },
  {
   "cell_type": "code",
   "execution_count": 16,
   "metadata": {},
   "outputs": [
    {
     "name": "stdout",
     "output_type": "stream",
     "text": [
      "+-----------+-------+\n",
      "|       Type|  count|\n",
      "+-----------+-------+\n",
      "|   Thể Thao|   2292|\n",
      "|Truyền Hình|1355367|\n",
      "|  Thiếu Nhi|  33056|\n",
      "|   Giải Trí|   6394|\n",
      "|Phim Truyện|  86312|\n",
      "+-----------+-------+\n",
      "\n"
     ]
    }
   ],
   "source": [
    "df_cal_group_2 = df_cal_group.groupBy('Type').count().show()"
   ]
  },
  {
   "cell_type": "code",
   "execution_count": null,
   "metadata": {},
   "outputs": [],
   "source": []
  },
  {
   "cell_type": "markdown",
   "metadata": {},
   "source": [
    "## Dùng RDD để tạo cột Type:\n",
    "    RDD sẽ không tạo cột Type mà sẽ thay thế trực tiếp trên data gốc nhờ hàm lambda "
   ]
  },
  {
   "cell_type": "code",
   "execution_count": null,
   "metadata": {},
   "outputs": [
    {
     "data": {
      "text/plain": [
       "'Truyền Hình'"
      ]
     },
     "execution_count": 11,
     "metadata": {},
     "output_type": "execute_result"
    }
   ],
   "source": [
    "# stateDic={'CHANNEL':'Truyền Hình','DSHD':'Truyền Hình', 'KPLUS':'Truyền Hình',\n",
    "#           'VOD' : 'Phim truyen', 'FIMS': 'Phim truyen',\n",
    "#           'SPORT': 'The thao', 'RELAX': 'Giai tri','CHILD': 'Thieu nhi'}\n",
    "# stateDic['KPLUS']"
   ]
  },
  {
   "cell_type": "code",
   "execution_count": null,
   "metadata": {},
   "outputs": [
    {
     "name": "stdout",
     "output_type": "stream",
     "text": [
      "+--------------------+-------+------+--------------------+-----+\n",
      "|                 _id| _index|_score|             _source|_type|\n",
      "+--------------------+-------+------+--------------------+-----+\n",
      "|AX_momhia1FFivsGrn9o|history|     0|{KPLUS, HNH579912...|kplus|\n",
      "|AX_momhca1FFivsGrnvg|history|     0|{KPLUS, HUFD40665...|kplus|\n",
      "|AX_momhaa1FFivsGrnny|history|     0|{KPLUS, HNH572635...|kplus|\n",
      "|AX_momhca1FFivsGrnvv|history|     0|{KPLUS, HND141717...|kplus|\n",
      "|AX_momhia1FFivsGrn98|history|     0|{KPLUS, HNH743103...|kplus|\n",
      "|AX_momg9a1FFivsGrnkS|history|     0|{KPLUS, HNH893773...|kplus|\n",
      "|AX_momhca1FFivsGrnwA|history|     0|{KPLUS, HND083642...|kplus|\n",
      "|AX_momhfa1FFivsGrn2u|history|     0|{KPLUS, DNFD74404...|kplus|\n",
      "|AX_momhca1FFivsGrnwP|history|     0|{KPLUS, DTFD21200...|kplus|\n",
      "|AX_momhca1FFivsGrnwU|history|     0|{KPLUS, LDFD05747...|kplus|\n",
      "|AX_momhfa1FFivsGrn24|history|     0|{KPLUS, HNH063566...|kplus|\n",
      "|AX_momhia1FFivsGrn-W|history|     0|{KPLUS, HNH866786...|kplus|\n",
      "|AX_momhia1FFivsGrn-a|history|     0|{KPLUS, NBAAA1128...|kplus|\n",
      "|AX_momhfa1FFivsGrn3J|history|     0|{KPLUS, HNH960439...|kplus|\n",
      "|AX_momhia1FFivsGrn-k|history|     0|{KPLUS, HNJ035736...|kplus|\n",
      "|AX_momhaa1FFivsGrnol|history|     0|{KPLUS, NTFD93673...|kplus|\n",
      "|AX_momhaa1FFivsGrnoq|history|     0|{KPLUS, HNJ063267...|kplus|\n",
      "|AX_momg9a1FFivsGrnlF|history|     0|{KPLUS, HNH790383...|kplus|\n",
      "|AX_momhia1FFivsGrn-4|history|     0|{KPLUS, THFD12466...|kplus|\n",
      "|AX_momhia1FFivsGrn-9|history|     0|{KPLUS, HNH566080...|kplus|\n",
      "+--------------------+-------+------+--------------------+-----+\n",
      "only showing top 20 rows\n",
      "\n"
     ]
    }
   ],
   "source": [
    "# df.show()"
   ]
  },
  {
   "cell_type": "code",
   "execution_count": null,
   "metadata": {},
   "outputs": [],
   "source": [
    "# df_rdd = df\n",
    "# df_rdd.rdd.collect()\n",
    "# df_rdd=df_rdd.rdd.map(lambda x: (x.Contract,stateDic[x.AppName], x.TotalDuration)).toDF([\"Contract\",\"AppName\",\"TotalDuration\" ])"
   ]
  },
  {
   "cell_type": "code",
   "execution_count": null,
   "metadata": {},
   "outputs": [],
   "source": []
  },
  {
   "cell_type": "code",
   "execution_count": null,
   "metadata": {},
   "outputs": [],
   "source": []
  },
  {
   "cell_type": "code",
   "execution_count": null,
   "metadata": {},
   "outputs": [],
   "source": []
  }
 ],
 "metadata": {
  "kernelspec": {
   "display_name": "Python 3.9.7 ('vscode')",
   "language": "python",
   "name": "python3"
  },
  "language_info": {
   "codemirror_mode": {
    "name": "ipython",
    "version": 3
   },
   "file_extension": ".py",
   "mimetype": "text/x-python",
   "name": "python",
   "nbconvert_exporter": "python",
   "pygments_lexer": "ipython3",
   "version": "3.9.7"
  },
  "orig_nbformat": 4,
  "vscode": {
   "interpreter": {
    "hash": "b6847d551842a98b4a4fabb44375b21d9f3247f6d0bf9de94f61325149fcfa08"
   }
  }
 },
 "nbformat": 4,
 "nbformat_minor": 2
}
