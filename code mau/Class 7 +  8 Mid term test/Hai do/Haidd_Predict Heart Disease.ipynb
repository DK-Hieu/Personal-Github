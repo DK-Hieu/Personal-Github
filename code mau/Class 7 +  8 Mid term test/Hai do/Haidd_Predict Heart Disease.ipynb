{
 "cells": [
  {
   "cell_type": "code",
   "execution_count": 42,
   "id": "52e36e74",
   "metadata": {},
   "outputs": [
    {
     "name": "stdout",
     "output_type": "stream",
     "text": [
      "imported\n"
     ]
    }
   ],
   "source": [
    "import numpy as np\n",
    "import pandas as pd\n",
    "print('imported')"
   ]
  },
  {
   "cell_type": "code",
   "execution_count": 46,
   "id": "7a9ab2af",
   "metadata": {},
   "outputs": [
    {
     "data": {
      "text/html": [
       "<div>\n",
       "<style scoped>\n",
       "    .dataframe tbody tr th:only-of-type {\n",
       "        vertical-align: middle;\n",
       "    }\n",
       "\n",
       "    .dataframe tbody tr th {\n",
       "        vertical-align: top;\n",
       "    }\n",
       "\n",
       "    .dataframe thead th {\n",
       "        text-align: right;\n",
       "    }\n",
       "</style>\n",
       "<table border=\"1\" class=\"dataframe\">\n",
       "  <thead>\n",
       "    <tr style=\"text-align: right;\">\n",
       "      <th></th>\n",
       "      <th>age</th>\n",
       "      <th>sex</th>\n",
       "      <th>cp</th>\n",
       "      <th>trestbps</th>\n",
       "      <th>fbs</th>\n",
       "      <th>restecg</th>\n",
       "      <th>thalach</th>\n",
       "      <th>exang</th>\n",
       "      <th>oldpeak</th>\n",
       "      <th>slope</th>\n",
       "      <th>ca</th>\n",
       "      <th>thal</th>\n",
       "      <th>num</th>\n",
       "      <th>chol</th>\n",
       "    </tr>\n",
       "  </thead>\n",
       "  <tbody>\n",
       "    <tr>\n",
       "      <th>0</th>\n",
       "      <td>63</td>\n",
       "      <td>1</td>\n",
       "      <td>1</td>\n",
       "      <td>145</td>\n",
       "      <td>1</td>\n",
       "      <td>2</td>\n",
       "      <td>150</td>\n",
       "      <td>0</td>\n",
       "      <td>2.3</td>\n",
       "      <td>3</td>\n",
       "      <td>0</td>\n",
       "      <td>6</td>\n",
       "      <td>0</td>\n",
       "      <td>233</td>\n",
       "    </tr>\n",
       "    <tr>\n",
       "      <th>1</th>\n",
       "      <td>67</td>\n",
       "      <td>1</td>\n",
       "      <td>4</td>\n",
       "      <td>160</td>\n",
       "      <td>0</td>\n",
       "      <td>2</td>\n",
       "      <td>108</td>\n",
       "      <td>1</td>\n",
       "      <td>1.5</td>\n",
       "      <td>2</td>\n",
       "      <td>3</td>\n",
       "      <td>3</td>\n",
       "      <td>2</td>\n",
       "      <td>286</td>\n",
       "    </tr>\n",
       "    <tr>\n",
       "      <th>2</th>\n",
       "      <td>67</td>\n",
       "      <td>1</td>\n",
       "      <td>4</td>\n",
       "      <td>120</td>\n",
       "      <td>0</td>\n",
       "      <td>2</td>\n",
       "      <td>129</td>\n",
       "      <td>1</td>\n",
       "      <td>2.6</td>\n",
       "      <td>2</td>\n",
       "      <td>2</td>\n",
       "      <td>7</td>\n",
       "      <td>1</td>\n",
       "      <td>229</td>\n",
       "    </tr>\n",
       "    <tr>\n",
       "      <th>3</th>\n",
       "      <td>37</td>\n",
       "      <td>1</td>\n",
       "      <td>3</td>\n",
       "      <td>130</td>\n",
       "      <td>0</td>\n",
       "      <td>0</td>\n",
       "      <td>187</td>\n",
       "      <td>0</td>\n",
       "      <td>3.5</td>\n",
       "      <td>3</td>\n",
       "      <td>0</td>\n",
       "      <td>3</td>\n",
       "      <td>0</td>\n",
       "      <td>250</td>\n",
       "    </tr>\n",
       "    <tr>\n",
       "      <th>4</th>\n",
       "      <td>41</td>\n",
       "      <td>0</td>\n",
       "      <td>2</td>\n",
       "      <td>130</td>\n",
       "      <td>0</td>\n",
       "      <td>2</td>\n",
       "      <td>172</td>\n",
       "      <td>0</td>\n",
       "      <td>1.4</td>\n",
       "      <td>1</td>\n",
       "      <td>0</td>\n",
       "      <td>3</td>\n",
       "      <td>0</td>\n",
       "      <td>204</td>\n",
       "    </tr>\n",
       "  </tbody>\n",
       "</table>\n",
       "</div>"
      ],
      "text/plain": [
       "   age  sex  cp  trestbps  fbs  restecg  thalach  exang  oldpeak  slope ca  \\\n",
       "0   63    1   1       145    1        2      150      0      2.3      3  0   \n",
       "1   67    1   4       160    0        2      108      1      1.5      2  3   \n",
       "2   67    1   4       120    0        2      129      1      2.6      2  2   \n",
       "3   37    1   3       130    0        0      187      0      3.5      3  0   \n",
       "4   41    0   2       130    0        2      172      0      1.4      1  0   \n",
       "\n",
       "  thal  num  chol  \n",
       "0    6    0   233  \n",
       "1    3    2   286  \n",
       "2    7    1   229  \n",
       "3    3    0   250  \n",
       "4    3    0   204  "
      ]
     },
     "execution_count": 46,
     "metadata": {},
     "output_type": "execute_result"
    }
   ],
   "source": [
    "df_heart_disease = pd.read_csv('https://raw.githubusercontent.com/maxtran1997gmail/Files/main/dataset_2190_cholesterol.csv')\n",
    "df_heart_disease.head()"
   ]
  },
  {
   "cell_type": "code",
   "execution_count": 47,
   "id": "f7fb5fc0",
   "metadata": {},
   "outputs": [
    {
     "data": {
      "text/plain": [
       "(303, 14)"
      ]
     },
     "execution_count": 47,
     "metadata": {},
     "output_type": "execute_result"
    }
   ],
   "source": [
    "df_heart_disease.shape"
   ]
  },
  {
   "cell_type": "code",
   "execution_count": 48,
   "id": "e5a70c99",
   "metadata": {},
   "outputs": [
    {
     "name": "stdout",
     "output_type": "stream",
     "text": [
      "<class 'pandas.core.frame.DataFrame'>\n",
      "RangeIndex: 303 entries, 0 to 302\n",
      "Data columns (total 14 columns):\n",
      " #   Column    Non-Null Count  Dtype  \n",
      "---  ------    --------------  -----  \n",
      " 0   age       303 non-null    int64  \n",
      " 1   sex       303 non-null    int64  \n",
      " 2   cp        303 non-null    int64  \n",
      " 3   trestbps  303 non-null    int64  \n",
      " 4   fbs       303 non-null    int64  \n",
      " 5   restecg   303 non-null    int64  \n",
      " 6   thalach   303 non-null    int64  \n",
      " 7   exang     303 non-null    int64  \n",
      " 8   oldpeak   303 non-null    float64\n",
      " 9   slope     303 non-null    int64  \n",
      " 10  ca        303 non-null    object \n",
      " 11  thal      303 non-null    object \n",
      " 12  num       303 non-null    int64  \n",
      " 13  chol      303 non-null    int64  \n",
      "dtypes: float64(1), int64(11), object(2)\n",
      "memory usage: 33.3+ KB\n"
     ]
    }
   ],
   "source": [
    "df_heart_disease.info()"
   ]
  },
  {
   "cell_type": "markdown",
   "id": "2ff7beea",
   "metadata": {},
   "source": [
    "### Check values in each features"
   ]
  },
  {
   "cell_type": "code",
   "execution_count": 49,
   "id": "e265bccf",
   "metadata": {},
   "outputs": [
    {
     "name": "stdout",
     "output_type": "stream",
     "text": [
      "['0' '1' '2' '3' '?']\n",
      "[176  65  38  20   4]\n"
     ]
    }
   ],
   "source": [
    "y = np.asarray(df_heart_disease['ca'])\n",
    "values, counts = np.unique(y, return_counts=True)\n",
    "print(values)\n",
    "print(counts)"
   ]
  },
  {
   "cell_type": "markdown",
   "id": "f9f74aed",
   "metadata": {},
   "source": [
    "Change '?' in df_heart_disease['ca'] by mode('0'). Then change type to int64"
   ]
  },
  {
   "cell_type": "code",
   "execution_count": 50,
   "id": "40440c17",
   "metadata": {},
   "outputs": [],
   "source": [
    "df_heart_disease['ca'].replace('?', '0', inplace=True) #replace ?->0"
   ]
  },
  {
   "cell_type": "code",
   "execution_count": 51,
   "id": "37aea83a",
   "metadata": {},
   "outputs": [
    {
     "name": "stdout",
     "output_type": "stream",
     "text": [
      "['0' '1' '2' '3']\n",
      "[180  65  38  20]\n"
     ]
    }
   ],
   "source": [
    "#check values after changed\n",
    "y = np.asarray(df_heart_disease['ca'])\n",
    "values, counts = np.unique(y, return_counts=True)\n",
    "print(values)\n",
    "print(counts)"
   ]
  },
  {
   "cell_type": "code",
   "execution_count": 52,
   "id": "4bbaf478",
   "metadata": {},
   "outputs": [
    {
     "name": "stdout",
     "output_type": "stream",
     "text": [
      "<class 'pandas.core.frame.DataFrame'>\n",
      "RangeIndex: 303 entries, 0 to 302\n",
      "Data columns (total 14 columns):\n",
      " #   Column    Non-Null Count  Dtype  \n",
      "---  ------    --------------  -----  \n",
      " 0   age       303 non-null    int64  \n",
      " 1   sex       303 non-null    int64  \n",
      " 2   cp        303 non-null    int64  \n",
      " 3   trestbps  303 non-null    int64  \n",
      " 4   fbs       303 non-null    int64  \n",
      " 5   restecg   303 non-null    int64  \n",
      " 6   thalach   303 non-null    int64  \n",
      " 7   exang     303 non-null    int64  \n",
      " 8   oldpeak   303 non-null    float64\n",
      " 9   slope     303 non-null    int64  \n",
      " 10  ca        303 non-null    int64  \n",
      " 11  thal      303 non-null    object \n",
      " 12  num       303 non-null    int64  \n",
      " 13  chol      303 non-null    int64  \n",
      "dtypes: float64(1), int64(12), object(1)\n",
      "memory usage: 33.3+ KB\n"
     ]
    }
   ],
   "source": [
    "#change type of df_heart_disease['ca'] to int 64\n",
    "df_heart_disease['ca'] = df_heart_disease['ca'].astype(int)\n",
    "df_heart_disease.info()"
   ]
  },
  {
   "cell_type": "code",
   "execution_count": 53,
   "id": "4013676d",
   "metadata": {},
   "outputs": [
    {
     "name": "stdout",
     "output_type": "stream",
     "text": [
      "['3' '6' '7' '?']\n",
      "[166  18 117   2]\n"
     ]
    }
   ],
   "source": [
    "y = np.asarray(df_heart_disease['thal'])\n",
    "values, counts = np.unique(y, return_counts=True)#check values in df_loan['education']\n",
    "print(values)\n",
    "print(counts)"
   ]
  },
  {
   "cell_type": "markdown",
   "id": "7cc69a24",
   "metadata": {},
   "source": [
    "#### =>>Change '?' in df_heart_disease['thal'] by mode('3'). Then change type to int64"
   ]
  },
  {
   "cell_type": "code",
   "execution_count": 54,
   "id": "4a73caa3",
   "metadata": {},
   "outputs": [
    {
     "name": "stdout",
     "output_type": "stream",
     "text": [
      "<class 'pandas.core.frame.DataFrame'>\n",
      "RangeIndex: 303 entries, 0 to 302\n",
      "Data columns (total 14 columns):\n",
      " #   Column    Non-Null Count  Dtype  \n",
      "---  ------    --------------  -----  \n",
      " 0   age       303 non-null    int64  \n",
      " 1   sex       303 non-null    int64  \n",
      " 2   cp        303 non-null    int64  \n",
      " 3   trestbps  303 non-null    int64  \n",
      " 4   fbs       303 non-null    int64  \n",
      " 5   restecg   303 non-null    int64  \n",
      " 6   thalach   303 non-null    int64  \n",
      " 7   exang     303 non-null    int64  \n",
      " 8   oldpeak   303 non-null    float64\n",
      " 9   slope     303 non-null    int64  \n",
      " 10  ca        303 non-null    int64  \n",
      " 11  thal      303 non-null    int64  \n",
      " 12  num       303 non-null    int64  \n",
      " 13  chol      303 non-null    int64  \n",
      "dtypes: float64(1), int64(13)\n",
      "memory usage: 33.3 KB\n"
     ]
    }
   ],
   "source": [
    "df_heart_disease['thal'].replace('?', '3', inplace=True) #replace ?-> 3\n",
    "df_heart_disease['thal'] = df_heart_disease['thal'].astype(int) #change type to int64\n",
    "df_heart_disease.info()"
   ]
  },
  {
   "cell_type": "code",
   "execution_count": 55,
   "id": "10bb2e2d",
   "metadata": {},
   "outputs": [
    {
     "data": {
      "text/html": [
       "<div>\n",
       "<style scoped>\n",
       "    .dataframe tbody tr th:only-of-type {\n",
       "        vertical-align: middle;\n",
       "    }\n",
       "\n",
       "    .dataframe tbody tr th {\n",
       "        vertical-align: top;\n",
       "    }\n",
       "\n",
       "    .dataframe thead th {\n",
       "        text-align: right;\n",
       "    }\n",
       "</style>\n",
       "<table border=\"1\" class=\"dataframe\">\n",
       "  <thead>\n",
       "    <tr style=\"text-align: right;\">\n",
       "      <th></th>\n",
       "      <th>age</th>\n",
       "      <th>sex</th>\n",
       "      <th>cp</th>\n",
       "      <th>trestbps</th>\n",
       "      <th>fbs</th>\n",
       "      <th>restecg</th>\n",
       "      <th>thalach</th>\n",
       "      <th>exang</th>\n",
       "      <th>oldpeak</th>\n",
       "      <th>slope</th>\n",
       "      <th>ca</th>\n",
       "      <th>thal</th>\n",
       "      <th>num</th>\n",
       "      <th>chol</th>\n",
       "    </tr>\n",
       "  </thead>\n",
       "  <tbody>\n",
       "    <tr>\n",
       "      <th>0</th>\n",
       "      <td>63</td>\n",
       "      <td>1</td>\n",
       "      <td>1</td>\n",
       "      <td>145</td>\n",
       "      <td>1</td>\n",
       "      <td>2</td>\n",
       "      <td>150</td>\n",
       "      <td>0</td>\n",
       "      <td>23</td>\n",
       "      <td>3</td>\n",
       "      <td>0</td>\n",
       "      <td>6</td>\n",
       "      <td>0</td>\n",
       "      <td>233</td>\n",
       "    </tr>\n",
       "    <tr>\n",
       "      <th>1</th>\n",
       "      <td>67</td>\n",
       "      <td>1</td>\n",
       "      <td>4</td>\n",
       "      <td>160</td>\n",
       "      <td>0</td>\n",
       "      <td>2</td>\n",
       "      <td>108</td>\n",
       "      <td>1</td>\n",
       "      <td>15</td>\n",
       "      <td>2</td>\n",
       "      <td>3</td>\n",
       "      <td>3</td>\n",
       "      <td>2</td>\n",
       "      <td>286</td>\n",
       "    </tr>\n",
       "    <tr>\n",
       "      <th>2</th>\n",
       "      <td>67</td>\n",
       "      <td>1</td>\n",
       "      <td>4</td>\n",
       "      <td>120</td>\n",
       "      <td>0</td>\n",
       "      <td>2</td>\n",
       "      <td>129</td>\n",
       "      <td>1</td>\n",
       "      <td>26</td>\n",
       "      <td>2</td>\n",
       "      <td>2</td>\n",
       "      <td>7</td>\n",
       "      <td>1</td>\n",
       "      <td>229</td>\n",
       "    </tr>\n",
       "    <tr>\n",
       "      <th>3</th>\n",
       "      <td>37</td>\n",
       "      <td>1</td>\n",
       "      <td>3</td>\n",
       "      <td>130</td>\n",
       "      <td>0</td>\n",
       "      <td>0</td>\n",
       "      <td>187</td>\n",
       "      <td>0</td>\n",
       "      <td>35</td>\n",
       "      <td>3</td>\n",
       "      <td>0</td>\n",
       "      <td>3</td>\n",
       "      <td>0</td>\n",
       "      <td>250</td>\n",
       "    </tr>\n",
       "    <tr>\n",
       "      <th>4</th>\n",
       "      <td>41</td>\n",
       "      <td>0</td>\n",
       "      <td>2</td>\n",
       "      <td>130</td>\n",
       "      <td>0</td>\n",
       "      <td>2</td>\n",
       "      <td>172</td>\n",
       "      <td>0</td>\n",
       "      <td>14</td>\n",
       "      <td>1</td>\n",
       "      <td>0</td>\n",
       "      <td>3</td>\n",
       "      <td>0</td>\n",
       "      <td>204</td>\n",
       "    </tr>\n",
       "  </tbody>\n",
       "</table>\n",
       "</div>"
      ],
      "text/plain": [
       "   age  sex  cp  trestbps  fbs  restecg  thalach  exang  oldpeak  slope  ca  \\\n",
       "0   63    1   1       145    1        2      150      0       23      3   0   \n",
       "1   67    1   4       160    0        2      108      1       15      2   3   \n",
       "2   67    1   4       120    0        2      129      1       26      2   2   \n",
       "3   37    1   3       130    0        0      187      0       35      3   0   \n",
       "4   41    0   2       130    0        2      172      0       14      1   0   \n",
       "\n",
       "   thal  num  chol  \n",
       "0     6    0   233  \n",
       "1     3    2   286  \n",
       "2     7    1   229  \n",
       "3     3    0   250  \n",
       "4     3    0   204  "
      ]
     },
     "execution_count": 55,
     "metadata": {},
     "output_type": "execute_result"
    }
   ],
   "source": [
    "#change type of oldpeak to int by x10\n",
    "df_heart_disease['oldpeak'] = df_heart_disease['oldpeak']*10\n",
    "df_heart_disease['oldpeak'] = df_heart_disease['oldpeak'].astype(int)\n",
    "df_heart_disease.head()"
   ]
  },
  {
   "cell_type": "markdown",
   "id": "f10eb0ef",
   "metadata": {},
   "source": [
    "Ok, now we have clean dataset. We will use **df_heart_disease['num'] is target** and all of other features are predict variables."
   ]
  },
  {
   "cell_type": "code",
   "execution_count": 59,
   "id": "e54283a9",
   "metadata": {},
   "outputs": [
    {
     "data": {
      "text/plain": [
       "array([[ 63,   1,   1, 145,   1,   2, 150,   0,  23,   3,   0,   6, 233],\n",
       "       [ 67,   1,   4, 160,   0,   2, 108,   1,  15,   2,   3,   3, 286],\n",
       "       [ 67,   1,   4, 120,   0,   2, 129,   1,  26,   2,   2,   7, 229],\n",
       "       [ 37,   1,   3, 130,   0,   0, 187,   0,  35,   3,   0,   3, 250],\n",
       "       [ 41,   0,   2, 130,   0,   2, 172,   0,  14,   1,   0,   3, 204],\n",
       "       [ 56,   1,   2, 120,   0,   0, 178,   0,   8,   1,   0,   3, 236],\n",
       "       [ 62,   0,   4, 140,   0,   2, 160,   0,  36,   3,   2,   3, 268],\n",
       "       [ 57,   0,   4, 120,   0,   0, 163,   1,   6,   1,   0,   3, 354]])"
      ]
     },
     "execution_count": 59,
     "metadata": {},
     "output_type": "execute_result"
    }
   ],
   "source": [
    "x = df_heart_disease[['age', 'sex', 'cp', 'trestbps', 'fbs', 'restecg', 'thalach', 'exang', 'oldpeak', \n",
    "                     'slope', 'ca', 'thal', 'chol']].values\n",
    "#x = np.asarray(df_heart_disease[['age', 'sex', 'cp', 'trestbps', 'fbs', 'restecg', 'thalach', 'exang', 'oldpeak', \n",
    "#                     'slope', 'ca', 'thal', 'chol']])\n",
    "x[0:8]"
   ]
  },
  {
   "cell_type": "code",
   "execution_count": 60,
   "id": "031be0ba",
   "metadata": {},
   "outputs": [
    {
     "data": {
      "text/plain": [
       "0    0\n",
       "1    2\n",
       "2    1\n",
       "3    0\n",
       "4    0\n",
       "5    0\n",
       "6    3\n",
       "7    0\n",
       "Name: num, dtype: int64"
      ]
     },
     "execution_count": 60,
     "metadata": {},
     "output_type": "execute_result"
    }
   ],
   "source": [
    "y = df_heart_disease['num']\n",
    "y[0:8]"
   ]
  },
  {
   "cell_type": "markdown",
   "id": "d4547cd4",
   "metadata": {},
   "source": [
    "### Use 70% for trainset and 30% for testset\n",
    "#### 1st we use classification\n",
    "#### 2nd we use random forest"
   ]
  },
  {
   "cell_type": "code",
   "execution_count": 61,
   "id": "9e5b3379",
   "metadata": {},
   "outputs": [
    {
     "name": "stdout",
     "output_type": "stream",
     "text": [
      "Traning dataset: (212, 13) (212,)\n",
      "Testing dataset: (91, 13) (91,)\n"
     ]
    }
   ],
   "source": [
    "from sklearn.model_selection import train_test_split\n",
    "x_train, x_test, y_train, y_test = train_test_split(x, y, test_size=0.3, random_state=3)\n",
    "print ('Traning dataset:', x_train.shape,  y_train.shape)\n",
    "print ('Testing dataset:', x_test.shape,  y_test.shape)"
   ]
  },
  {
   "cell_type": "code",
   "execution_count": 65,
   "id": "98e64f20",
   "metadata": {},
   "outputs": [
    {
     "data": {
      "text/plain": [
       "DecisionTreeClassifier(criterion='entropy', max_depth=4)"
      ]
     },
     "execution_count": 65,
     "metadata": {},
     "output_type": "execute_result"
    }
   ],
   "source": [
    "from sklearn.tree import DecisionTreeClassifier\n",
    "heart_disease_Tree = DecisionTreeClassifier(criterion=\"entropy\", max_depth = 4) #criterion=\"entropy\"/\"gini\"\n",
    "heart_disease_Tree.fit(x_train,y_train)\n",
    "heart_disease_Tree # it shows the default parameters"
   ]
  },
  {
   "cell_type": "code",
   "execution_count": 67,
   "id": "559acf4f",
   "metadata": {},
   "outputs": [
    {
     "data": {
      "text/plain": [
       "[Text(167.4, 195.696, 'X[10] <= 0.5\\nentropy = 1.778\\nsamples = 212\\nvalue = [117, 45, 24, 19, 7]'),\n",
       " Text(83.7, 152.208, 'X[7] <= 0.5\\nentropy = 1.142\\nsamples = 130\\nvalue = [97, 23, 6, 3, 1]'),\n",
       " Text(41.85, 108.72, 'X[6] <= 161.5\\nentropy = 0.572\\nsamples = 96\\nvalue = [83, 13, 0, 0, 0]'),\n",
       " Text(20.925, 65.232, 'X[1] <= 0.5\\nentropy = 0.785\\nsamples = 47\\nvalue = [36, 11, 0, 0, 0]'),\n",
       " Text(10.4625, 21.744, 'entropy = 0.297\\nsamples = 19\\nvalue = [18, 1, 0, 0, 0]'),\n",
       " Text(31.387500000000003, 21.744, 'entropy = 0.94\\nsamples = 28\\nvalue = [18, 10, 0, 0, 0]'),\n",
       " Text(62.775000000000006, 65.232, 'X[2] <= 3.5\\nentropy = 0.246\\nsamples = 49\\nvalue = [47, 2, 0, 0, 0]'),\n",
       " Text(52.3125, 21.744, 'entropy = 0.0\\nsamples = 39\\nvalue = [39, 0, 0, 0, 0]'),\n",
       " Text(73.2375, 21.744, 'entropy = 0.722\\nsamples = 10\\nvalue = [8, 2, 0, 0, 0]'),\n",
       " Text(125.55000000000001, 108.72, 'X[8] <= 19.0\\nentropy = 1.947\\nsamples = 34\\nvalue = [14, 10, 6, 3, 1]'),\n",
       " Text(104.625, 65.232, 'X[8] <= 7.5\\nentropy = 1.548\\nsamples = 27\\nvalue = [14, 9, 3, 1, 0]'),\n",
       " Text(94.16250000000001, 21.744, 'entropy = 0.863\\nsamples = 14\\nvalue = [10, 4, 0, 0, 0]'),\n",
       " Text(115.0875, 21.744, 'entropy = 1.826\\nsamples = 13\\nvalue = [4, 5, 3, 1, 0]'),\n",
       " Text(146.475, 65.232, 'X[6] <= 149.5\\nentropy = 1.842\\nsamples = 7\\nvalue = [0, 1, 3, 2, 1]'),\n",
       " Text(136.01250000000002, 21.744, 'entropy = 0.971\\nsamples = 5\\nvalue = [0, 0, 3, 2, 0]'),\n",
       " Text(156.9375, 21.744, 'entropy = 1.0\\nsamples = 2\\nvalue = [0, 1, 0, 0, 1]'),\n",
       " Text(251.10000000000002, 152.208, 'X[9] <= 1.5\\nentropy = 2.222\\nsamples = 82\\nvalue = [20, 22, 18, 16, 6]'),\n",
       " Text(209.25, 108.72, 'X[2] <= 3.5\\nentropy = 1.564\\nsamples = 31\\nvalue = [17, 8, 5, 1, 0]'),\n",
       " Text(188.32500000000002, 65.232, 'X[5] <= 1.0\\nentropy = 0.65\\nsamples = 18\\nvalue = [15, 3, 0, 0, 0]'),\n",
       " Text(177.8625, 21.744, 'entropy = 0.0\\nsamples = 11\\nvalue = [11, 0, 0, 0, 0]'),\n",
       " Text(198.7875, 21.744, 'entropy = 0.985\\nsamples = 7\\nvalue = [4, 3, 0, 0, 0]'),\n",
       " Text(230.175, 65.232, 'X[10] <= 1.5\\nentropy = 1.76\\nsamples = 13\\nvalue = [2, 5, 5, 1, 0]'),\n",
       " Text(219.7125, 21.744, 'entropy = 0.991\\nsamples = 9\\nvalue = [0, 4, 5, 0, 0]'),\n",
       " Text(240.63750000000002, 21.744, 'entropy = 1.5\\nsamples = 4\\nvalue = [2, 1, 0, 1, 0]'),\n",
       " Text(292.95, 108.72, 'X[1] <= 0.5\\nentropy = 2.138\\nsamples = 51\\nvalue = [3, 14, 13, 15, 6]'),\n",
       " Text(272.02500000000003, 65.232, 'X[11] <= 5.0\\nentropy = 1.658\\nsamples = 9\\nvalue = [2, 1, 1, 5, 0]'),\n",
       " Text(261.5625, 21.744, 'entropy = 1.5\\nsamples = 4\\nvalue = [2, 1, 1, 0, 0]'),\n",
       " Text(282.4875, 21.744, 'entropy = 0.0\\nsamples = 5\\nvalue = [0, 0, 0, 5, 0]'),\n",
       " Text(313.875, 65.232, 'X[6] <= 123.0\\nentropy = 2.062\\nsamples = 42\\nvalue = [1, 13, 12, 10, 6]'),\n",
       " Text(303.4125, 21.744, 'entropy = 1.429\\nsamples = 15\\nvalue = [0, 6, 2, 7, 0]'),\n",
       " Text(324.33750000000003, 21.744, 'entropy = 2.046\\nsamples = 27\\nvalue = [1, 7, 10, 3, 6]')]"
      ]
     },
     "execution_count": 67,
     "metadata": {},
     "output_type": "execute_result"
    },
    {
     "data": {
      "image/png": "[encoded data removed]",
      "text/plain": [
       "<Figure size 432x288 with 1 Axes>"
      ]
     },
     "metadata": {
      "needs_background": "light"
     },
     "output_type": "display_data"
    }
   ],
   "source": [
    "from sklearn import tree\n",
    "tree.plot_tree(heart_disease_Tree)"
   ]
  },
  {
   "cell_type": "code",
   "execution_count": 69,
   "id": "5b4c669c",
   "metadata": {},
   "outputs": [],
   "source": [
    "predict_heart_disease_Tree = heart_disease_Tree.predict(x_test)"
   ]
  },
  {
   "cell_type": "code",
   "execution_count": 70,
   "id": "ae09ca9a",
   "metadata": {},
   "outputs": [
    {
     "name": "stdout",
     "output_type": "stream",
     "text": [
      "DecisionTrees's Accuracy:  0.4945054945054945\n"
     ]
    }
   ],
   "source": [
    "from sklearn import metrics\n",
    "import matplotlib.pyplot as plt\n",
    "print(\"DecisionTrees's Accuracy: \", metrics.accuracy_score(y_test, predict_heart_disease_Tree))"
   ]
  },
  {
   "cell_type": "markdown",
   "id": "a6e77a49",
   "metadata": {},
   "source": [
    "**Try to change criterion = \"gini\"**"
   ]
  },
  {
   "cell_type": "code",
   "execution_count": 71,
   "id": "fc440c96",
   "metadata": {},
   "outputs": [
    {
     "data": {
      "text/plain": [
       "DecisionTreeClassifier(max_depth=4)"
      ]
     },
     "execution_count": 71,
     "metadata": {},
     "output_type": "execute_result"
    }
   ],
   "source": [
    "from sklearn.tree import DecisionTreeClassifier\n",
    "heart_disease_Tree = DecisionTreeClassifier(criterion=\"gini\", max_depth = 4)\n",
    "heart_disease_Tree.fit(x_train,y_train)\n",
    "heart_disease_Tree"
   ]
  },
  {
   "cell_type": "code",
   "execution_count": 72,
   "id": "82d689cc",
   "metadata": {},
   "outputs": [
    {
     "name": "stdout",
     "output_type": "stream",
     "text": [
      "DecisionTrees's Accuracy:  0.5164835164835165\n"
     ]
    }
   ],
   "source": [
    "predict_heart_disease_Tree = heart_disease_Tree.predict(x_test)\n",
    "print(\"DecisionTrees's Accuracy: \", metrics.accuracy_score(y_test, predict_heart_disease_Tree))"
   ]
  },
  {
   "cell_type": "markdown",
   "id": "33992de1",
   "metadata": {},
   "source": [
    "### When we change criterion from \"entropy\" to \"gini\". The Accuracy improve from 0.49 to 0.51. Then we use criterion = \"gini\", and increase max_depth from 4->5"
   ]
  },
  {
   "cell_type": "code",
   "execution_count": 74,
   "id": "c325666d",
   "metadata": {},
   "outputs": [
    {
     "name": "stdout",
     "output_type": "stream",
     "text": [
      "DecisionTrees's Accuracy:  0.5384615384615384\n"
     ]
    }
   ],
   "source": [
    "from sklearn.tree import DecisionTreeClassifier\n",
    "heart_disease_Tree = DecisionTreeClassifier(criterion=\"gini\", max_depth = 5)\n",
    "heart_disease_Tree.fit(x_train,y_train)\n",
    "predict_heart_disease_Tree = heart_disease_Tree.predict(x_test)\n",
    "print(\"DecisionTrees's Accuracy: \", metrics.accuracy_score(y_test, predict_heart_disease_Tree))"
   ]
  },
  {
   "cell_type": "code",
   "execution_count": 84,
   "id": "71d32ecf",
   "metadata": {},
   "outputs": [
    {
     "name": "stdout",
     "output_type": "stream",
     "text": [
      "DecisionTrees's Accuracy:  0.5164835164835165\n"
     ]
    }
   ],
   "source": [
    "from sklearn.tree import DecisionTreeClassifier\n",
    "heart_disease_Tree = DecisionTreeClassifier(criterion=\"entropy\", max_depth = 3)\n",
    "heart_disease_Tree.fit(x_train,y_train)\n",
    "predict_heart_disease_Tree = heart_disease_Tree.predict(x_test)\n",
    "print(\"DecisionTrees's Accuracy: \", metrics.accuracy_score(y_test, predict_heart_disease_Tree))"
   ]
  },
  {
   "cell_type": "markdown",
   "id": "a301bb4e",
   "metadata": {},
   "source": [
    "**The best Accuracy = 0.538** with **criterion=\"gini\", max_depth = 5**. When we **increase max_depth more than 5, the DecisionTrees's Accuracy decrease**. And The highest of DecisionTrees's Accuracy when we use criterion=\"entropy\" is 0.516, when max_depth = 3."
   ]
  },
  {
   "cell_type": "markdown",
   "id": "29b9ea0d",
   "metadata": {},
   "source": [
    "#### 2.Random forest"
   ]
  },
  {
   "cell_type": "markdown",
   "id": "2ccfc276",
   "metadata": {},
   "source": [
    "class sklearn.ensemble.RandomForestClassifier(n_estimators=100, *, criterion='gini', max_depth=None, min_samples_split=2, min_samples_leaf=1, min_weight_fraction_leaf=0.0, max_features='auto', max_leaf_nodes=None, min_impurity_decrease=0.0, bootstrap=True, oob_score=False, n_jobs=None, random_state=None, verbose=0, warm_start=False, class_weight=None, ccp_alpha=0.0, max_samples=None)"
   ]
  },
  {
   "cell_type": "code",
   "execution_count": 103,
   "id": "732870fd",
   "metadata": {},
   "outputs": [
    {
     "name": "stdout",
     "output_type": "stream",
     "text": [
      "Random Forest's Accuracy:  0.5824175824175825\n"
     ]
    }
   ],
   "source": [
    "from sklearn.ensemble import RandomForestClassifier\n",
    "heart_disease_RandomForest = RandomForestClassifier(n_estimators=100, criterion='gini', max_depth=6)\n",
    "heart_disease_RandomForest.fit(x_train,y_train)\n",
    "predict_heart_disease_RandomForest = heart_disease_RandomForest.predict(x_test)\n",
    "print(\"Random Forest's Accuracy: \", metrics.accuracy_score(y_test, predict_heart_disease_RandomForest))"
   ]
  },
  {
   "cell_type": "code",
   "execution_count": null,
   "id": "484eeca8",
   "metadata": {},
   "outputs": [],
   "source": []
  },
  {
   "cell_type": "code",
   "execution_count": null,
   "id": "a19261f7",
   "metadata": {},
   "outputs": [],
   "source": []
  }
 ],
 "metadata": {
  "kernelspec": {
   "display_name": "Python 3 (ipykernel)",
   "language": "python",
   "name": "python3"
  },
  "language_info": {
   "codemirror_mode": {
    "name": "ipython",
    "version": 3
   },
   "file_extension": ".py",
   "mimetype": "text/x-python",
   "name": "python",
   "nbconvert_exporter": "python",
   "pygments_lexer": "ipython3",
   "version": "3.9.7"
  }
 },
 "nbformat": 4,
 "nbformat_minor": 5
}
