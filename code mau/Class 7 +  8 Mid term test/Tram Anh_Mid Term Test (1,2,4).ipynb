{
 "cells": [
  {
   "cell_type": "code",
   "execution_count": 404,
   "id": "20b88626",
   "metadata": {},
   "outputs": [],
   "source": [
    "import pandas as pd\n",
    "import numpy as np\n",
    "import matplotlib.pyplot as plt\n",
    "import seaborn as sns\n",
    "from sklearn import preprocessing\n",
    "from dython.nominal import associations\n",
    "from sklearn import datasets, linear_model\n",
    "from sklearn.metrics import mean_squared_error, r2_score\n",
    "import warnings\n",
    "warnings.filterwarnings('ignore')"
   ]
  },
  {
   "cell_type": "markdown",
   "id": "17e6437e",
   "metadata": {},
   "source": [
    "# Test 1: Predict Used Car price (Linear – Polynomial Regression )"
   ]
  },
  {
   "cell_type": "markdown",
   "id": "f4842bd9",
   "metadata": {},
   "source": [
    "### Chọn lựa các biến đưa vào mô hình dự đoán"
   ]
  },
  {
   "cell_type": "code",
   "execution_count": 405,
   "id": "dd6f24b8",
   "metadata": {},
   "outputs": [],
   "source": [
    "# Add column headers\n",
    "df = pd.read_csv('C:\\\\Users\\\\Admin\\\\Desktop\\\\DA11\\\\Lesson7+8\\\\imports-85.csv')\n",
    "df.columns = ['symboling','normalized-losses','make','fuel-type','aspiration','num-of-doors','body-style','drive-wheels',\\\n",
    "              'engine-location','wheel-base','length','width','height','curb-weight','engine-type','num-of-cylinders',\\\n",
    "             'engine-size','fuel-system','bore','stroke','compression-ratio','horsepower','peak-rpm','city-mpg','highway-mpg',\\\n",
    "             'price']"
   ]
  },
  {
   "cell_type": "code",
   "execution_count": 406,
   "id": "f4622bf7",
   "metadata": {},
   "outputs": [
    {
     "data": {
      "text/html": [
       "<div>\n",
       "<style scoped>\n",
       "    .dataframe tbody tr th:only-of-type {\n",
       "        vertical-align: middle;\n",
       "    }\n",
       "\n",
       "    .dataframe tbody tr th {\n",
       "        vertical-align: top;\n",
       "    }\n",
       "\n",
       "    .dataframe thead th {\n",
       "        text-align: right;\n",
       "    }\n",
       "</style>\n",
       "<table border=\"1\" class=\"dataframe\">\n",
       "  <thead>\n",
       "    <tr style=\"text-align: right;\">\n",
       "      <th></th>\n",
       "      <th>symboling</th>\n",
       "      <th>normalized-losses</th>\n",
       "      <th>make</th>\n",
       "      <th>fuel-type</th>\n",
       "      <th>aspiration</th>\n",
       "      <th>num-of-doors</th>\n",
       "      <th>body-style</th>\n",
       "      <th>drive-wheels</th>\n",
       "      <th>engine-location</th>\n",
       "      <th>wheel-base</th>\n",
       "      <th>...</th>\n",
       "      <th>engine-size</th>\n",
       "      <th>fuel-system</th>\n",
       "      <th>bore</th>\n",
       "      <th>stroke</th>\n",
       "      <th>compression-ratio</th>\n",
       "      <th>horsepower</th>\n",
       "      <th>peak-rpm</th>\n",
       "      <th>city-mpg</th>\n",
       "      <th>highway-mpg</th>\n",
       "      <th>price</th>\n",
       "    </tr>\n",
       "  </thead>\n",
       "  <tbody>\n",
       "    <tr>\n",
       "      <th>0</th>\n",
       "      <td>3</td>\n",
       "      <td>?</td>\n",
       "      <td>alfa-romero</td>\n",
       "      <td>gas</td>\n",
       "      <td>std</td>\n",
       "      <td>two</td>\n",
       "      <td>convertible</td>\n",
       "      <td>rwd</td>\n",
       "      <td>front</td>\n",
       "      <td>88.6</td>\n",
       "      <td>...</td>\n",
       "      <td>130</td>\n",
       "      <td>mpfi</td>\n",
       "      <td>3.47</td>\n",
       "      <td>2.68</td>\n",
       "      <td>9.0</td>\n",
       "      <td>111</td>\n",
       "      <td>5000</td>\n",
       "      <td>21</td>\n",
       "      <td>27</td>\n",
       "      <td>16500</td>\n",
       "    </tr>\n",
       "    <tr>\n",
       "      <th>1</th>\n",
       "      <td>1</td>\n",
       "      <td>?</td>\n",
       "      <td>alfa-romero</td>\n",
       "      <td>gas</td>\n",
       "      <td>std</td>\n",
       "      <td>two</td>\n",
       "      <td>hatchback</td>\n",
       "      <td>rwd</td>\n",
       "      <td>front</td>\n",
       "      <td>94.5</td>\n",
       "      <td>...</td>\n",
       "      <td>152</td>\n",
       "      <td>mpfi</td>\n",
       "      <td>2.68</td>\n",
       "      <td>3.47</td>\n",
       "      <td>9.0</td>\n",
       "      <td>154</td>\n",
       "      <td>5000</td>\n",
       "      <td>19</td>\n",
       "      <td>26</td>\n",
       "      <td>16500</td>\n",
       "    </tr>\n",
       "    <tr>\n",
       "      <th>2</th>\n",
       "      <td>2</td>\n",
       "      <td>164</td>\n",
       "      <td>audi</td>\n",
       "      <td>gas</td>\n",
       "      <td>std</td>\n",
       "      <td>four</td>\n",
       "      <td>sedan</td>\n",
       "      <td>fwd</td>\n",
       "      <td>front</td>\n",
       "      <td>99.8</td>\n",
       "      <td>...</td>\n",
       "      <td>109</td>\n",
       "      <td>mpfi</td>\n",
       "      <td>3.19</td>\n",
       "      <td>3.40</td>\n",
       "      <td>10.0</td>\n",
       "      <td>102</td>\n",
       "      <td>5500</td>\n",
       "      <td>24</td>\n",
       "      <td>30</td>\n",
       "      <td>13950</td>\n",
       "    </tr>\n",
       "    <tr>\n",
       "      <th>3</th>\n",
       "      <td>2</td>\n",
       "      <td>164</td>\n",
       "      <td>audi</td>\n",
       "      <td>gas</td>\n",
       "      <td>std</td>\n",
       "      <td>four</td>\n",
       "      <td>sedan</td>\n",
       "      <td>4wd</td>\n",
       "      <td>front</td>\n",
       "      <td>99.4</td>\n",
       "      <td>...</td>\n",
       "      <td>136</td>\n",
       "      <td>mpfi</td>\n",
       "      <td>3.19</td>\n",
       "      <td>3.40</td>\n",
       "      <td>8.0</td>\n",
       "      <td>115</td>\n",
       "      <td>5500</td>\n",
       "      <td>18</td>\n",
       "      <td>22</td>\n",
       "      <td>17450</td>\n",
       "    </tr>\n",
       "    <tr>\n",
       "      <th>4</th>\n",
       "      <td>2</td>\n",
       "      <td>?</td>\n",
       "      <td>audi</td>\n",
       "      <td>gas</td>\n",
       "      <td>std</td>\n",
       "      <td>two</td>\n",
       "      <td>sedan</td>\n",
       "      <td>fwd</td>\n",
       "      <td>front</td>\n",
       "      <td>99.8</td>\n",
       "      <td>...</td>\n",
       "      <td>136</td>\n",
       "      <td>mpfi</td>\n",
       "      <td>3.19</td>\n",
       "      <td>3.40</td>\n",
       "      <td>8.5</td>\n",
       "      <td>110</td>\n",
       "      <td>5500</td>\n",
       "      <td>19</td>\n",
       "      <td>25</td>\n",
       "      <td>15250</td>\n",
       "    </tr>\n",
       "    <tr>\n",
       "      <th>5</th>\n",
       "      <td>1</td>\n",
       "      <td>158</td>\n",
       "      <td>audi</td>\n",
       "      <td>gas</td>\n",
       "      <td>std</td>\n",
       "      <td>four</td>\n",
       "      <td>sedan</td>\n",
       "      <td>fwd</td>\n",
       "      <td>front</td>\n",
       "      <td>105.8</td>\n",
       "      <td>...</td>\n",
       "      <td>136</td>\n",
       "      <td>mpfi</td>\n",
       "      <td>3.19</td>\n",
       "      <td>3.40</td>\n",
       "      <td>8.5</td>\n",
       "      <td>110</td>\n",
       "      <td>5500</td>\n",
       "      <td>19</td>\n",
       "      <td>25</td>\n",
       "      <td>17710</td>\n",
       "    </tr>\n",
       "  </tbody>\n",
       "</table>\n",
       "<p>6 rows × 26 columns</p>\n",
       "</div>"
      ],
      "text/plain": [
       "   symboling normalized-losses         make fuel-type aspiration num-of-doors  \\\n",
       "0          3                 ?  alfa-romero       gas        std          two   \n",
       "1          1                 ?  alfa-romero       gas        std          two   \n",
       "2          2               164         audi       gas        std         four   \n",
       "3          2               164         audi       gas        std         four   \n",
       "4          2                 ?         audi       gas        std          two   \n",
       "5          1               158         audi       gas        std         four   \n",
       "\n",
       "    body-style drive-wheels engine-location  wheel-base  ...  engine-size  \\\n",
       "0  convertible          rwd           front        88.6  ...          130   \n",
       "1    hatchback          rwd           front        94.5  ...          152   \n",
       "2        sedan          fwd           front        99.8  ...          109   \n",
       "3        sedan          4wd           front        99.4  ...          136   \n",
       "4        sedan          fwd           front        99.8  ...          136   \n",
       "5        sedan          fwd           front       105.8  ...          136   \n",
       "\n",
       "   fuel-system  bore  stroke compression-ratio horsepower  peak-rpm city-mpg  \\\n",
       "0         mpfi  3.47    2.68               9.0        111      5000       21   \n",
       "1         mpfi  2.68    3.47               9.0        154      5000       19   \n",
       "2         mpfi  3.19    3.40              10.0        102      5500       24   \n",
       "3         mpfi  3.19    3.40               8.0        115      5500       18   \n",
       "4         mpfi  3.19    3.40               8.5        110      5500       19   \n",
       "5         mpfi  3.19    3.40               8.5        110      5500       19   \n",
       "\n",
       "  highway-mpg  price  \n",
       "0          27  16500  \n",
       "1          26  16500  \n",
       "2          30  13950  \n",
       "3          22  17450  \n",
       "4          25  15250  \n",
       "5          25  17710  \n",
       "\n",
       "[6 rows x 26 columns]"
      ]
     },
     "execution_count": 406,
     "metadata": {},
     "output_type": "execute_result"
    }
   ],
   "source": [
    "df.head(6)"
   ]
  },
  {
   "cell_type": "code",
   "execution_count": 407,
   "id": "b3a51a9d",
   "metadata": {},
   "outputs": [
    {
     "data": {
      "text/html": [
       "<div>\n",
       "<style scoped>\n",
       "    .dataframe tbody tr th:only-of-type {\n",
       "        vertical-align: middle;\n",
       "    }\n",
       "\n",
       "    .dataframe tbody tr th {\n",
       "        vertical-align: top;\n",
       "    }\n",
       "\n",
       "    .dataframe thead th {\n",
       "        text-align: right;\n",
       "    }\n",
       "</style>\n",
       "<table border=\"1\" class=\"dataframe\">\n",
       "  <thead>\n",
       "    <tr style=\"text-align: right;\">\n",
       "      <th></th>\n",
       "      <th>normalized-losses</th>\n",
       "      <th>make</th>\n",
       "      <th>fuel-type</th>\n",
       "      <th>aspiration</th>\n",
       "      <th>num-of-doors</th>\n",
       "      <th>body-style</th>\n",
       "      <th>drive-wheels</th>\n",
       "      <th>engine-location</th>\n",
       "      <th>engine-type</th>\n",
       "      <th>num-of-cylinders</th>\n",
       "      <th>fuel-system</th>\n",
       "      <th>bore</th>\n",
       "      <th>stroke</th>\n",
       "      <th>horsepower</th>\n",
       "      <th>peak-rpm</th>\n",
       "      <th>price</th>\n",
       "    </tr>\n",
       "  </thead>\n",
       "  <tbody>\n",
       "    <tr>\n",
       "      <th>count</th>\n",
       "      <td>204</td>\n",
       "      <td>204</td>\n",
       "      <td>204</td>\n",
       "      <td>204</td>\n",
       "      <td>204</td>\n",
       "      <td>204</td>\n",
       "      <td>204</td>\n",
       "      <td>204</td>\n",
       "      <td>204</td>\n",
       "      <td>204</td>\n",
       "      <td>204</td>\n",
       "      <td>204</td>\n",
       "      <td>204</td>\n",
       "      <td>204</td>\n",
       "      <td>204</td>\n",
       "      <td>204</td>\n",
       "    </tr>\n",
       "    <tr>\n",
       "      <th>unique</th>\n",
       "      <td>52</td>\n",
       "      <td>22</td>\n",
       "      <td>2</td>\n",
       "      <td>2</td>\n",
       "      <td>3</td>\n",
       "      <td>5</td>\n",
       "      <td>3</td>\n",
       "      <td>2</td>\n",
       "      <td>7</td>\n",
       "      <td>7</td>\n",
       "      <td>8</td>\n",
       "      <td>39</td>\n",
       "      <td>37</td>\n",
       "      <td>60</td>\n",
       "      <td>24</td>\n",
       "      <td>186</td>\n",
       "    </tr>\n",
       "    <tr>\n",
       "      <th>top</th>\n",
       "      <td>?</td>\n",
       "      <td>toyota</td>\n",
       "      <td>gas</td>\n",
       "      <td>std</td>\n",
       "      <td>four</td>\n",
       "      <td>sedan</td>\n",
       "      <td>fwd</td>\n",
       "      <td>front</td>\n",
       "      <td>ohc</td>\n",
       "      <td>four</td>\n",
       "      <td>mpfi</td>\n",
       "      <td>3.62</td>\n",
       "      <td>3.40</td>\n",
       "      <td>68</td>\n",
       "      <td>5500</td>\n",
       "      <td>?</td>\n",
       "    </tr>\n",
       "    <tr>\n",
       "      <th>freq</th>\n",
       "      <td>40</td>\n",
       "      <td>32</td>\n",
       "      <td>184</td>\n",
       "      <td>167</td>\n",
       "      <td>114</td>\n",
       "      <td>96</td>\n",
       "      <td>120</td>\n",
       "      <td>201</td>\n",
       "      <td>148</td>\n",
       "      <td>158</td>\n",
       "      <td>93</td>\n",
       "      <td>23</td>\n",
       "      <td>20</td>\n",
       "      <td>19</td>\n",
       "      <td>37</td>\n",
       "      <td>4</td>\n",
       "    </tr>\n",
       "  </tbody>\n",
       "</table>\n",
       "</div>"
      ],
      "text/plain": [
       "       normalized-losses    make fuel-type aspiration num-of-doors body-style  \\\n",
       "count                204     204       204        204          204        204   \n",
       "unique                52      22         2          2            3          5   \n",
       "top                    ?  toyota       gas        std         four      sedan   \n",
       "freq                  40      32       184        167          114         96   \n",
       "\n",
       "       drive-wheels engine-location engine-type num-of-cylinders fuel-system  \\\n",
       "count           204             204         204              204         204   \n",
       "unique            3               2           7                7           8   \n",
       "top             fwd           front         ohc             four        mpfi   \n",
       "freq            120             201         148              158          93   \n",
       "\n",
       "        bore stroke horsepower peak-rpm price  \n",
       "count    204    204        204      204   204  \n",
       "unique    39     37         60       24   186  \n",
       "top     3.62   3.40         68     5500     ?  \n",
       "freq      23     20         19       37     4  "
      ]
     },
     "execution_count": 407,
     "metadata": {},
     "output_type": "execute_result"
    }
   ],
   "source": [
    "df.describe(include = 'object')"
   ]
  },
  {
   "cell_type": "code",
   "execution_count": 408,
   "id": "9d9b6f38",
   "metadata": {},
   "outputs": [
    {
     "data": {
      "text/plain": [
       "array(['four', 'six', 'five', 'three', 'twelve', 'two', 'eight'],\n",
       "      dtype=object)"
      ]
     },
     "execution_count": 408,
     "metadata": {},
     "output_type": "execute_result"
    }
   ],
   "source": [
    "df['num-of-cylinders'].unique()"
   ]
  },
  {
   "cell_type": "code",
   "execution_count": 409,
   "id": "492612b2",
   "metadata": {},
   "outputs": [
    {
     "data": {
      "text/plain": [
       "array(['two', 'four', '?'], dtype=object)"
      ]
     },
     "execution_count": 409,
     "metadata": {},
     "output_type": "execute_result"
    }
   ],
   "source": [
    "df['num-of-doors'].unique()"
   ]
  },
  {
   "cell_type": "code",
   "execution_count": 410,
   "id": "522c8d28",
   "metadata": {},
   "outputs": [],
   "source": [
    "# Change value in 'num-of-doors' and 'num-of-cylinders' into integer\n",
    "df['num-of-cylinders'] = df['num-of-cylinders'].replace(['four', 'six', 'five', 'three', 'twelve', 'two', 'eight'],[4,6,5,3,12,2,8])\n",
    "df['num-of-doors'] = df['num-of-doors'].replace(['two', 'four', '?'],[2,4,4])"
   ]
  },
  {
   "cell_type": "code",
   "execution_count": 411,
   "id": "bb61f80f",
   "metadata": {},
   "outputs": [],
   "source": [
    "# Replace '?' value\n",
    "df = df.replace(['?'], np.nan)\n",
    "\n",
    "#Change value in 'num-of-doors' and\n",
    "# Convert datatype into and float\n",
    "df = df.astype({'normalized-losses':float,'bore':float,'stroke':float,'horsepower':float,'peak-rpm':float,'price':float})"
   ]
  },
  {
   "cell_type": "code",
   "execution_count": 412,
   "id": "0cb3a934",
   "metadata": {},
   "outputs": [
    {
     "name": "stdout",
     "output_type": "stream",
     "text": [
      "<class 'pandas.core.frame.DataFrame'>\n",
      "RangeIndex: 204 entries, 0 to 203\n",
      "Data columns (total 26 columns):\n",
      " #   Column             Non-Null Count  Dtype  \n",
      "---  ------             --------------  -----  \n",
      " 0   symboling          204 non-null    int64  \n",
      " 1   normalized-losses  164 non-null    float64\n",
      " 2   make               204 non-null    object \n",
      " 3   fuel-type          204 non-null    object \n",
      " 4   aspiration         204 non-null    object \n",
      " 5   num-of-doors       204 non-null    int64  \n",
      " 6   body-style         204 non-null    object \n",
      " 7   drive-wheels       204 non-null    object \n",
      " 8   engine-location    204 non-null    object \n",
      " 9   wheel-base         204 non-null    float64\n",
      " 10  length             204 non-null    float64\n",
      " 11  width              204 non-null    float64\n",
      " 12  height             204 non-null    float64\n",
      " 13  curb-weight        204 non-null    int64  \n",
      " 14  engine-type        204 non-null    object \n",
      " 15  num-of-cylinders   204 non-null    int64  \n",
      " 16  engine-size        204 non-null    int64  \n",
      " 17  fuel-system        204 non-null    object \n",
      " 18  bore               200 non-null    float64\n",
      " 19  stroke             200 non-null    float64\n",
      " 20  compression-ratio  204 non-null    float64\n",
      " 21  horsepower         202 non-null    float64\n",
      " 22  peak-rpm           202 non-null    float64\n",
      " 23  city-mpg           204 non-null    int64  \n",
      " 24  highway-mpg        204 non-null    int64  \n",
      " 25  price              200 non-null    float64\n",
      "dtypes: float64(11), int64(7), object(8)\n",
      "memory usage: 41.6+ KB\n"
     ]
    }
   ],
   "source": [
    "df.info()"
   ]
  },
  {
   "cell_type": "code",
   "execution_count": 413,
   "id": "8091f2af",
   "metadata": {},
   "outputs": [],
   "source": [
    "# Replace null value with mean\n",
    "df = df.fillna(df.mean())"
   ]
  },
  {
   "cell_type": "code",
   "execution_count": 414,
   "id": "23e7faa0",
   "metadata": {},
   "outputs": [
    {
     "data": {
      "text/html": [
       "<div>\n",
       "<style scoped>\n",
       "    .dataframe tbody tr th:only-of-type {\n",
       "        vertical-align: middle;\n",
       "    }\n",
       "\n",
       "    .dataframe tbody tr th {\n",
       "        vertical-align: top;\n",
       "    }\n",
       "\n",
       "    .dataframe thead th {\n",
       "        text-align: right;\n",
       "    }\n",
       "</style>\n",
       "<table border=\"1\" class=\"dataframe\">\n",
       "  <thead>\n",
       "    <tr style=\"text-align: right;\">\n",
       "      <th></th>\n",
       "      <th>symboling</th>\n",
       "      <th>normalized-losses</th>\n",
       "      <th>num-of-doors</th>\n",
       "      <th>wheel-base</th>\n",
       "      <th>length</th>\n",
       "      <th>width</th>\n",
       "      <th>height</th>\n",
       "      <th>curb-weight</th>\n",
       "      <th>num-of-cylinders</th>\n",
       "      <th>engine-size</th>\n",
       "      <th>bore</th>\n",
       "      <th>stroke</th>\n",
       "      <th>compression-ratio</th>\n",
       "      <th>horsepower</th>\n",
       "      <th>peak-rpm</th>\n",
       "      <th>city-mpg</th>\n",
       "      <th>highway-mpg</th>\n",
       "      <th>price</th>\n",
       "    </tr>\n",
       "  </thead>\n",
       "  <tbody>\n",
       "    <tr>\n",
       "      <th>count</th>\n",
       "      <td>204.000000</td>\n",
       "      <td>204.000000</td>\n",
       "      <td>204.000000</td>\n",
       "      <td>204.000000</td>\n",
       "      <td>204.000000</td>\n",
       "      <td>204.000000</td>\n",
       "      <td>204.000000</td>\n",
       "      <td>204.000000</td>\n",
       "      <td>204.000000</td>\n",
       "      <td>204.000000</td>\n",
       "      <td>204.000000</td>\n",
       "      <td>204.00000</td>\n",
       "      <td>204.000000</td>\n",
       "      <td>204.000000</td>\n",
       "      <td>204.000000</td>\n",
       "      <td>204.000000</td>\n",
       "      <td>204.000000</td>\n",
       "      <td>204.0000</td>\n",
       "    </tr>\n",
       "    <tr>\n",
       "      <th>mean</th>\n",
       "      <td>0.823529</td>\n",
       "      <td>122.000000</td>\n",
       "      <td>3.137255</td>\n",
       "      <td>98.806373</td>\n",
       "      <td>174.075000</td>\n",
       "      <td>65.916667</td>\n",
       "      <td>53.749020</td>\n",
       "      <td>2555.602941</td>\n",
       "      <td>4.382353</td>\n",
       "      <td>126.892157</td>\n",
       "      <td>3.329050</td>\n",
       "      <td>3.25830</td>\n",
       "      <td>10.148137</td>\n",
       "      <td>104.222772</td>\n",
       "      <td>5125.990099</td>\n",
       "      <td>25.240196</td>\n",
       "      <td>30.769608</td>\n",
       "      <td>13205.6900</td>\n",
       "    </tr>\n",
       "    <tr>\n",
       "      <th>std</th>\n",
       "      <td>1.239035</td>\n",
       "      <td>31.758944</td>\n",
       "      <td>0.992973</td>\n",
       "      <td>5.994144</td>\n",
       "      <td>12.362123</td>\n",
       "      <td>2.146716</td>\n",
       "      <td>2.424901</td>\n",
       "      <td>521.960820</td>\n",
       "      <td>1.083182</td>\n",
       "      <td>41.744569</td>\n",
       "      <td>0.271331</td>\n",
       "      <td>0.31175</td>\n",
       "      <td>3.981000</td>\n",
       "      <td>39.613588</td>\n",
       "      <td>478.071104</td>\n",
       "      <td>6.551513</td>\n",
       "      <td>6.898337</td>\n",
       "      <td>7888.0996</td>\n",
       "    </tr>\n",
       "    <tr>\n",
       "      <th>min</th>\n",
       "      <td>-2.000000</td>\n",
       "      <td>65.000000</td>\n",
       "      <td>2.000000</td>\n",
       "      <td>86.600000</td>\n",
       "      <td>141.100000</td>\n",
       "      <td>60.300000</td>\n",
       "      <td>47.800000</td>\n",
       "      <td>1488.000000</td>\n",
       "      <td>2.000000</td>\n",
       "      <td>61.000000</td>\n",
       "      <td>2.540000</td>\n",
       "      <td>2.07000</td>\n",
       "      <td>7.000000</td>\n",
       "      <td>48.000000</td>\n",
       "      <td>4150.000000</td>\n",
       "      <td>13.000000</td>\n",
       "      <td>16.000000</td>\n",
       "      <td>5118.0000</td>\n",
       "    </tr>\n",
       "    <tr>\n",
       "      <th>25%</th>\n",
       "      <td>0.000000</td>\n",
       "      <td>101.000000</td>\n",
       "      <td>2.000000</td>\n",
       "      <td>94.500000</td>\n",
       "      <td>166.300000</td>\n",
       "      <td>64.075000</td>\n",
       "      <td>52.000000</td>\n",
       "      <td>2145.000000</td>\n",
       "      <td>4.000000</td>\n",
       "      <td>97.000000</td>\n",
       "      <td>3.150000</td>\n",
       "      <td>3.11000</td>\n",
       "      <td>8.575000</td>\n",
       "      <td>70.000000</td>\n",
       "      <td>4800.000000</td>\n",
       "      <td>19.000000</td>\n",
       "      <td>25.000000</td>\n",
       "      <td>7784.7500</td>\n",
       "    </tr>\n",
       "    <tr>\n",
       "      <th>50%</th>\n",
       "      <td>1.000000</td>\n",
       "      <td>122.000000</td>\n",
       "      <td>4.000000</td>\n",
       "      <td>97.000000</td>\n",
       "      <td>173.200000</td>\n",
       "      <td>65.500000</td>\n",
       "      <td>54.100000</td>\n",
       "      <td>2414.000000</td>\n",
       "      <td>4.000000</td>\n",
       "      <td>119.500000</td>\n",
       "      <td>3.310000</td>\n",
       "      <td>3.29000</td>\n",
       "      <td>9.000000</td>\n",
       "      <td>95.000000</td>\n",
       "      <td>5200.000000</td>\n",
       "      <td>24.000000</td>\n",
       "      <td>30.000000</td>\n",
       "      <td>10470.0000</td>\n",
       "    </tr>\n",
       "    <tr>\n",
       "      <th>75%</th>\n",
       "      <td>2.000000</td>\n",
       "      <td>137.000000</td>\n",
       "      <td>4.000000</td>\n",
       "      <td>102.400000</td>\n",
       "      <td>183.200000</td>\n",
       "      <td>66.900000</td>\n",
       "      <td>55.500000</td>\n",
       "      <td>2939.250000</td>\n",
       "      <td>4.000000</td>\n",
       "      <td>142.000000</td>\n",
       "      <td>3.582500</td>\n",
       "      <td>3.41000</td>\n",
       "      <td>9.400000</td>\n",
       "      <td>116.000000</td>\n",
       "      <td>5500.000000</td>\n",
       "      <td>30.000000</td>\n",
       "      <td>34.500000</td>\n",
       "      <td>16500.0000</td>\n",
       "    </tr>\n",
       "    <tr>\n",
       "      <th>max</th>\n",
       "      <td>3.000000</td>\n",
       "      <td>256.000000</td>\n",
       "      <td>4.000000</td>\n",
       "      <td>120.900000</td>\n",
       "      <td>208.100000</td>\n",
       "      <td>72.300000</td>\n",
       "      <td>59.800000</td>\n",
       "      <td>4066.000000</td>\n",
       "      <td>12.000000</td>\n",
       "      <td>326.000000</td>\n",
       "      <td>3.940000</td>\n",
       "      <td>4.17000</td>\n",
       "      <td>23.000000</td>\n",
       "      <td>288.000000</td>\n",
       "      <td>6600.000000</td>\n",
       "      <td>49.000000</td>\n",
       "      <td>54.000000</td>\n",
       "      <td>45400.0000</td>\n",
       "    </tr>\n",
       "  </tbody>\n",
       "</table>\n",
       "</div>"
      ],
      "text/plain": [
       "        symboling  normalized-losses  num-of-doors  wheel-base      length  \\\n",
       "count  204.000000         204.000000    204.000000  204.000000  204.000000   \n",
       "mean     0.823529         122.000000      3.137255   98.806373  174.075000   \n",
       "std      1.239035          31.758944      0.992973    5.994144   12.362123   \n",
       "min     -2.000000          65.000000      2.000000   86.600000  141.100000   \n",
       "25%      0.000000         101.000000      2.000000   94.500000  166.300000   \n",
       "50%      1.000000         122.000000      4.000000   97.000000  173.200000   \n",
       "75%      2.000000         137.000000      4.000000  102.400000  183.200000   \n",
       "max      3.000000         256.000000      4.000000  120.900000  208.100000   \n",
       "\n",
       "            width      height  curb-weight  num-of-cylinders  engine-size  \\\n",
       "count  204.000000  204.000000   204.000000        204.000000   204.000000   \n",
       "mean    65.916667   53.749020  2555.602941          4.382353   126.892157   \n",
       "std      2.146716    2.424901   521.960820          1.083182    41.744569   \n",
       "min     60.300000   47.800000  1488.000000          2.000000    61.000000   \n",
       "25%     64.075000   52.000000  2145.000000          4.000000    97.000000   \n",
       "50%     65.500000   54.100000  2414.000000          4.000000   119.500000   \n",
       "75%     66.900000   55.500000  2939.250000          4.000000   142.000000   \n",
       "max     72.300000   59.800000  4066.000000         12.000000   326.000000   \n",
       "\n",
       "             bore     stroke  compression-ratio  horsepower     peak-rpm  \\\n",
       "count  204.000000  204.00000         204.000000  204.000000   204.000000   \n",
       "mean     3.329050    3.25830          10.148137  104.222772  5125.990099   \n",
       "std      0.271331    0.31175           3.981000   39.613588   478.071104   \n",
       "min      2.540000    2.07000           7.000000   48.000000  4150.000000   \n",
       "25%      3.150000    3.11000           8.575000   70.000000  4800.000000   \n",
       "50%      3.310000    3.29000           9.000000   95.000000  5200.000000   \n",
       "75%      3.582500    3.41000           9.400000  116.000000  5500.000000   \n",
       "max      3.940000    4.17000          23.000000  288.000000  6600.000000   \n",
       "\n",
       "         city-mpg  highway-mpg       price  \n",
       "count  204.000000   204.000000    204.0000  \n",
       "mean    25.240196    30.769608  13205.6900  \n",
       "std      6.551513     6.898337   7888.0996  \n",
       "min     13.000000    16.000000   5118.0000  \n",
       "25%     19.000000    25.000000   7784.7500  \n",
       "50%     24.000000    30.000000  10470.0000  \n",
       "75%     30.000000    34.500000  16500.0000  \n",
       "max     49.000000    54.000000  45400.0000  "
      ]
     },
     "execution_count": 414,
     "metadata": {},
     "output_type": "execute_result"
    }
   ],
   "source": [
    "df.describe()"
   ]
  },
  {
   "cell_type": "code",
   "execution_count": 415,
   "id": "f8c45dd6",
   "metadata": {},
   "outputs": [
    {
     "data": {
      "text/html": [
       "<div>\n",
       "<style scoped>\n",
       "    .dataframe tbody tr th:only-of-type {\n",
       "        vertical-align: middle;\n",
       "    }\n",
       "\n",
       "    .dataframe tbody tr th {\n",
       "        vertical-align: top;\n",
       "    }\n",
       "\n",
       "    .dataframe thead th {\n",
       "        text-align: right;\n",
       "    }\n",
       "</style>\n",
       "<table border=\"1\" class=\"dataframe\">\n",
       "  <thead>\n",
       "    <tr style=\"text-align: right;\">\n",
       "      <th></th>\n",
       "      <th>make</th>\n",
       "      <th>fuel-type</th>\n",
       "      <th>aspiration</th>\n",
       "      <th>body-style</th>\n",
       "      <th>drive-wheels</th>\n",
       "      <th>engine-location</th>\n",
       "      <th>engine-type</th>\n",
       "      <th>fuel-system</th>\n",
       "    </tr>\n",
       "  </thead>\n",
       "  <tbody>\n",
       "    <tr>\n",
       "      <th>count</th>\n",
       "      <td>204</td>\n",
       "      <td>204</td>\n",
       "      <td>204</td>\n",
       "      <td>204</td>\n",
       "      <td>204</td>\n",
       "      <td>204</td>\n",
       "      <td>204</td>\n",
       "      <td>204</td>\n",
       "    </tr>\n",
       "    <tr>\n",
       "      <th>unique</th>\n",
       "      <td>22</td>\n",
       "      <td>2</td>\n",
       "      <td>2</td>\n",
       "      <td>5</td>\n",
       "      <td>3</td>\n",
       "      <td>2</td>\n",
       "      <td>7</td>\n",
       "      <td>8</td>\n",
       "    </tr>\n",
       "    <tr>\n",
       "      <th>top</th>\n",
       "      <td>toyota</td>\n",
       "      <td>gas</td>\n",
       "      <td>std</td>\n",
       "      <td>sedan</td>\n",
       "      <td>fwd</td>\n",
       "      <td>front</td>\n",
       "      <td>ohc</td>\n",
       "      <td>mpfi</td>\n",
       "    </tr>\n",
       "    <tr>\n",
       "      <th>freq</th>\n",
       "      <td>32</td>\n",
       "      <td>184</td>\n",
       "      <td>167</td>\n",
       "      <td>96</td>\n",
       "      <td>120</td>\n",
       "      <td>201</td>\n",
       "      <td>148</td>\n",
       "      <td>93</td>\n",
       "    </tr>\n",
       "  </tbody>\n",
       "</table>\n",
       "</div>"
      ],
      "text/plain": [
       "          make fuel-type aspiration body-style drive-wheels engine-location  \\\n",
       "count      204       204        204        204          204             204   \n",
       "unique      22         2          2          5            3               2   \n",
       "top     toyota       gas        std      sedan          fwd           front   \n",
       "freq        32       184        167         96          120             201   \n",
       "\n",
       "       engine-type fuel-system  \n",
       "count          204         204  \n",
       "unique           7           8  \n",
       "top            ohc        mpfi  \n",
       "freq           148          93  "
      ]
     },
     "execution_count": 415,
     "metadata": {},
     "output_type": "execute_result"
    }
   ],
   "source": [
    "df.describe(include = 'object')"
   ]
  },
  {
   "cell_type": "code",
   "execution_count": 416,
   "id": "bf278dfb",
   "metadata": {},
   "outputs": [
    {
     "data": {
      "text/plain": [
       "symboling           -0.083136\n",
       "normalized-losses    0.133999\n",
       "num-of-doors         0.042288\n",
       "wheel-base           0.587607\n",
       "length               0.683372\n",
       "width                0.730130\n",
       "height               0.136123\n",
       "curb-weight          0.820831\n",
       "num-of-cylinders     0.688043\n",
       "engine-size          0.861753\n",
       "bore                 0.532562\n",
       "stroke               0.083115\n",
       "compression-ratio    0.071058\n",
       "horsepower           0.757943\n",
       "peak-rpm            -0.100833\n",
       "city-mpg            -0.668021\n",
       "highway-mpg         -0.690937\n",
       "price                1.000000\n",
       "Name: price, dtype: float64"
      ]
     },
     "execution_count": 416,
     "metadata": {},
     "output_type": "execute_result"
    }
   ],
   "source": [
    "# Check tương quan của các biến numeric với biến price\n",
    "corr_price = df[df.columns[:]].corr()['price'][:]\n",
    "corr_price"
   ]
  },
  {
   "cell_type": "code",
   "execution_count": 417,
   "id": "eb6e30c5",
   "metadata": {},
   "outputs": [
    {
     "data": {
      "image/png": "[encoded data removed]",
      "text/plain": [
       "<Figure size 1440x720 with 2 Axes>"
      ]
     },
     "metadata": {
      "needs_background": "light"
     },
     "output_type": "display_data"
    },
    {
     "data": {
      "text/plain": [
       "{'corr':                     price      make  fuel-type  aspiration  body-style  \\\n",
       " price            1.000000  0.878890   0.110297    0.177465    0.402328   \n",
       " make             0.878890  1.000000   0.368851    0.408662    0.270851   \n",
       " fuel-type        0.110297  0.368851   1.000000    0.373950    0.171311   \n",
       " aspiration       0.177465  0.408662   0.373950    1.000000    0.000000   \n",
       " body-style       0.402328  0.270851   0.171311    0.000000    1.000000   \n",
       " drive-wheels     0.635345  0.601118   0.091359    0.121391    0.205141   \n",
       " engine-location  0.331048  0.702147   0.000000    0.000000    0.450763   \n",
       " engine-type      0.450303  0.624133   0.248631    0.148958    0.100803   \n",
       " fuel-system      0.588126  0.509130   0.985037    0.610275    0.138087   \n",
       " \n",
       "                  drive-wheels  engine-location  engine-type  fuel-system  \n",
       " price                0.635345         0.331048     0.450303     0.588126  \n",
       " make                 0.601118         0.702147     0.624133     0.509130  \n",
       " fuel-type            0.091359         0.000000     0.248631     0.985037  \n",
       " aspiration           0.121391         0.000000     0.148958     0.610275  \n",
       " body-style           0.205141         0.450763     0.100803     0.138087  \n",
       " drive-wheels         1.000000         0.126086     0.421989     0.385623  \n",
       " engine-location      0.126086         1.000000     0.399109     0.000000  \n",
       " engine-type          0.421989         0.399109     1.000000     0.375547  \n",
       " fuel-system          0.385623         0.000000     0.375547     1.000000  ,\n",
       " 'ax': <AxesSubplot:>}"
      ]
     },
     "execution_count": 417,
     "metadata": {},
     "output_type": "execute_result"
    }
   ],
   "source": [
    "# Check tương quan các biến categorical với biến price\n",
    "associations(df[['price','make','fuel-type','aspiration','body-style','drive-wheels','engine-location',\\\n",
    "                 'engine-type','fuel-system']],figsize=(20,10))"
   ]
  },
  {
   "cell_type": "code",
   "execution_count": 418,
   "id": "d853f0ef",
   "metadata": {
    "scrolled": true
   },
   "outputs": [
    {
     "data": {
      "text/html": [
       "<div>\n",
       "<style scoped>\n",
       "    .dataframe tbody tr th:only-of-type {\n",
       "        vertical-align: middle;\n",
       "    }\n",
       "\n",
       "    .dataframe tbody tr th {\n",
       "        vertical-align: top;\n",
       "    }\n",
       "\n",
       "    .dataframe thead th {\n",
       "        text-align: right;\n",
       "    }\n",
       "</style>\n",
       "<table border=\"1\" class=\"dataframe\">\n",
       "  <thead>\n",
       "    <tr style=\"text-align: right;\">\n",
       "      <th></th>\n",
       "      <th>wheel-base</th>\n",
       "      <th>length</th>\n",
       "      <th>width</th>\n",
       "      <th>curb-weight</th>\n",
       "      <th>num-of-cylinders</th>\n",
       "      <th>engine-size</th>\n",
       "      <th>bore</th>\n",
       "      <th>horsepower</th>\n",
       "      <th>city-mpg</th>\n",
       "      <th>highway-mpg</th>\n",
       "      <th>make</th>\n",
       "      <th>drive-wheels</th>\n",
       "      <th>fuel-system</th>\n",
       "      <th>price</th>\n",
       "    </tr>\n",
       "  </thead>\n",
       "  <tbody>\n",
       "    <tr>\n",
       "      <th>0</th>\n",
       "      <td>88.6</td>\n",
       "      <td>168.8</td>\n",
       "      <td>64.1</td>\n",
       "      <td>2548</td>\n",
       "      <td>4</td>\n",
       "      <td>130</td>\n",
       "      <td>3.47</td>\n",
       "      <td>111.0</td>\n",
       "      <td>21</td>\n",
       "      <td>27</td>\n",
       "      <td>alfa-romero</td>\n",
       "      <td>rwd</td>\n",
       "      <td>mpfi</td>\n",
       "      <td>16500.0</td>\n",
       "    </tr>\n",
       "    <tr>\n",
       "      <th>1</th>\n",
       "      <td>94.5</td>\n",
       "      <td>171.2</td>\n",
       "      <td>65.5</td>\n",
       "      <td>2823</td>\n",
       "      <td>6</td>\n",
       "      <td>152</td>\n",
       "      <td>2.68</td>\n",
       "      <td>154.0</td>\n",
       "      <td>19</td>\n",
       "      <td>26</td>\n",
       "      <td>alfa-romero</td>\n",
       "      <td>rwd</td>\n",
       "      <td>mpfi</td>\n",
       "      <td>16500.0</td>\n",
       "    </tr>\n",
       "    <tr>\n",
       "      <th>2</th>\n",
       "      <td>99.8</td>\n",
       "      <td>176.6</td>\n",
       "      <td>66.2</td>\n",
       "      <td>2337</td>\n",
       "      <td>4</td>\n",
       "      <td>109</td>\n",
       "      <td>3.19</td>\n",
       "      <td>102.0</td>\n",
       "      <td>24</td>\n",
       "      <td>30</td>\n",
       "      <td>audi</td>\n",
       "      <td>fwd</td>\n",
       "      <td>mpfi</td>\n",
       "      <td>13950.0</td>\n",
       "    </tr>\n",
       "    <tr>\n",
       "      <th>3</th>\n",
       "      <td>99.4</td>\n",
       "      <td>176.6</td>\n",
       "      <td>66.4</td>\n",
       "      <td>2824</td>\n",
       "      <td>5</td>\n",
       "      <td>136</td>\n",
       "      <td>3.19</td>\n",
       "      <td>115.0</td>\n",
       "      <td>18</td>\n",
       "      <td>22</td>\n",
       "      <td>audi</td>\n",
       "      <td>4wd</td>\n",
       "      <td>mpfi</td>\n",
       "      <td>17450.0</td>\n",
       "    </tr>\n",
       "    <tr>\n",
       "      <th>4</th>\n",
       "      <td>99.8</td>\n",
       "      <td>177.3</td>\n",
       "      <td>66.3</td>\n",
       "      <td>2507</td>\n",
       "      <td>5</td>\n",
       "      <td>136</td>\n",
       "      <td>3.19</td>\n",
       "      <td>110.0</td>\n",
       "      <td>19</td>\n",
       "      <td>25</td>\n",
       "      <td>audi</td>\n",
       "      <td>fwd</td>\n",
       "      <td>mpfi</td>\n",
       "      <td>15250.0</td>\n",
       "    </tr>\n",
       "    <tr>\n",
       "      <th>5</th>\n",
       "      <td>105.8</td>\n",
       "      <td>192.7</td>\n",
       "      <td>71.4</td>\n",
       "      <td>2844</td>\n",
       "      <td>5</td>\n",
       "      <td>136</td>\n",
       "      <td>3.19</td>\n",
       "      <td>110.0</td>\n",
       "      <td>19</td>\n",
       "      <td>25</td>\n",
       "      <td>audi</td>\n",
       "      <td>fwd</td>\n",
       "      <td>mpfi</td>\n",
       "      <td>17710.0</td>\n",
       "    </tr>\n",
       "  </tbody>\n",
       "</table>\n",
       "</div>"
      ],
      "text/plain": [
       "   wheel-base  length  width  curb-weight  num-of-cylinders  engine-size  \\\n",
       "0        88.6   168.8   64.1         2548                 4          130   \n",
       "1        94.5   171.2   65.5         2823                 6          152   \n",
       "2        99.8   176.6   66.2         2337                 4          109   \n",
       "3        99.4   176.6   66.4         2824                 5          136   \n",
       "4        99.8   177.3   66.3         2507                 5          136   \n",
       "5       105.8   192.7   71.4         2844                 5          136   \n",
       "\n",
       "   bore  horsepower  city-mpg  highway-mpg         make drive-wheels  \\\n",
       "0  3.47       111.0        21           27  alfa-romero          rwd   \n",
       "1  2.68       154.0        19           26  alfa-romero          rwd   \n",
       "2  3.19       102.0        24           30         audi          fwd   \n",
       "3  3.19       115.0        18           22         audi          4wd   \n",
       "4  3.19       110.0        19           25         audi          fwd   \n",
       "5  3.19       110.0        19           25         audi          fwd   \n",
       "\n",
       "  fuel-system    price  \n",
       "0        mpfi  16500.0  \n",
       "1        mpfi  16500.0  \n",
       "2        mpfi  13950.0  \n",
       "3        mpfi  17450.0  \n",
       "4        mpfi  15250.0  \n",
       "5        mpfi  17710.0  "
      ]
     },
     "execution_count": 418,
     "metadata": {},
     "output_type": "execute_result"
    }
   ],
   "source": [
    "# Chọn các biến có mối tương quan với biến 'price' >= 0.5 và <= -0.5\n",
    "car_price = df[['wheel-base','length','width','curb-weight','num-of-cylinders','engine-size','bore','horsepower',\\\n",
    "              'city-mpg','highway-mpg','make','drive-wheels','fuel-system','price']]\n",
    "car_price.head(6)"
   ]
  },
  {
   "cell_type": "markdown",
   "id": "5900c932",
   "metadata": {},
   "source": [
    "### Chuẩn hóa dữ liệu"
   ]
  },
  {
   "cell_type": "code",
   "execution_count": 419,
   "id": "91d12868",
   "metadata": {},
   "outputs": [
    {
     "data": {
      "text/html": [
       "<div>\n",
       "<style scoped>\n",
       "    .dataframe tbody tr th:only-of-type {\n",
       "        vertical-align: middle;\n",
       "    }\n",
       "\n",
       "    .dataframe tbody tr th {\n",
       "        vertical-align: top;\n",
       "    }\n",
       "\n",
       "    .dataframe thead th {\n",
       "        text-align: right;\n",
       "    }\n",
       "</style>\n",
       "<table border=\"1\" class=\"dataframe\">\n",
       "  <thead>\n",
       "    <tr style=\"text-align: right;\">\n",
       "      <th></th>\n",
       "      <th>wheel-base</th>\n",
       "      <th>length</th>\n",
       "      <th>width</th>\n",
       "      <th>curb-weight</th>\n",
       "      <th>num-of-cylinders</th>\n",
       "      <th>engine-size</th>\n",
       "      <th>bore</th>\n",
       "      <th>horsepower</th>\n",
       "      <th>city-mpg</th>\n",
       "      <th>highway-mpg</th>\n",
       "      <th>make</th>\n",
       "      <th>drive-wheels</th>\n",
       "      <th>fuel-system</th>\n",
       "      <th>price</th>\n",
       "    </tr>\n",
       "  </thead>\n",
       "  <tbody>\n",
       "    <tr>\n",
       "      <th>0</th>\n",
       "      <td>88.6</td>\n",
       "      <td>168.8</td>\n",
       "      <td>64.1</td>\n",
       "      <td>2548</td>\n",
       "      <td>4</td>\n",
       "      <td>130</td>\n",
       "      <td>3.47</td>\n",
       "      <td>111.0</td>\n",
       "      <td>21</td>\n",
       "      <td>27</td>\n",
       "      <td>1</td>\n",
       "      <td>1</td>\n",
       "      <td>1</td>\n",
       "      <td>16500.0</td>\n",
       "    </tr>\n",
       "    <tr>\n",
       "      <th>1</th>\n",
       "      <td>94.5</td>\n",
       "      <td>171.2</td>\n",
       "      <td>65.5</td>\n",
       "      <td>2823</td>\n",
       "      <td>6</td>\n",
       "      <td>152</td>\n",
       "      <td>2.68</td>\n",
       "      <td>154.0</td>\n",
       "      <td>19</td>\n",
       "      <td>26</td>\n",
       "      <td>1</td>\n",
       "      <td>1</td>\n",
       "      <td>1</td>\n",
       "      <td>16500.0</td>\n",
       "    </tr>\n",
       "    <tr>\n",
       "      <th>2</th>\n",
       "      <td>99.8</td>\n",
       "      <td>176.6</td>\n",
       "      <td>66.2</td>\n",
       "      <td>2337</td>\n",
       "      <td>4</td>\n",
       "      <td>109</td>\n",
       "      <td>3.19</td>\n",
       "      <td>102.0</td>\n",
       "      <td>24</td>\n",
       "      <td>30</td>\n",
       "      <td>2</td>\n",
       "      <td>2</td>\n",
       "      <td>1</td>\n",
       "      <td>13950.0</td>\n",
       "    </tr>\n",
       "    <tr>\n",
       "      <th>3</th>\n",
       "      <td>99.4</td>\n",
       "      <td>176.6</td>\n",
       "      <td>66.4</td>\n",
       "      <td>2824</td>\n",
       "      <td>5</td>\n",
       "      <td>136</td>\n",
       "      <td>3.19</td>\n",
       "      <td>115.0</td>\n",
       "      <td>18</td>\n",
       "      <td>22</td>\n",
       "      <td>2</td>\n",
       "      <td>3</td>\n",
       "      <td>1</td>\n",
       "      <td>17450.0</td>\n",
       "    </tr>\n",
       "    <tr>\n",
       "      <th>4</th>\n",
       "      <td>99.8</td>\n",
       "      <td>177.3</td>\n",
       "      <td>66.3</td>\n",
       "      <td>2507</td>\n",
       "      <td>5</td>\n",
       "      <td>136</td>\n",
       "      <td>3.19</td>\n",
       "      <td>110.0</td>\n",
       "      <td>19</td>\n",
       "      <td>25</td>\n",
       "      <td>2</td>\n",
       "      <td>2</td>\n",
       "      <td>1</td>\n",
       "      <td>15250.0</td>\n",
       "    </tr>\n",
       "    <tr>\n",
       "      <th>5</th>\n",
       "      <td>105.8</td>\n",
       "      <td>192.7</td>\n",
       "      <td>71.4</td>\n",
       "      <td>2844</td>\n",
       "      <td>5</td>\n",
       "      <td>136</td>\n",
       "      <td>3.19</td>\n",
       "      <td>110.0</td>\n",
       "      <td>19</td>\n",
       "      <td>25</td>\n",
       "      <td>2</td>\n",
       "      <td>2</td>\n",
       "      <td>1</td>\n",
       "      <td>17710.0</td>\n",
       "    </tr>\n",
       "  </tbody>\n",
       "</table>\n",
       "</div>"
      ],
      "text/plain": [
       "   wheel-base  length  width  curb-weight  num-of-cylinders  engine-size  \\\n",
       "0        88.6   168.8   64.1         2548                 4          130   \n",
       "1        94.5   171.2   65.5         2823                 6          152   \n",
       "2        99.8   176.6   66.2         2337                 4          109   \n",
       "3        99.4   176.6   66.4         2824                 5          136   \n",
       "4        99.8   177.3   66.3         2507                 5          136   \n",
       "5       105.8   192.7   71.4         2844                 5          136   \n",
       "\n",
       "   bore  horsepower  city-mpg  highway-mpg  make  drive-wheels  fuel-system  \\\n",
       "0  3.47       111.0        21           27     1             1            1   \n",
       "1  2.68       154.0        19           26     1             1            1   \n",
       "2  3.19       102.0        24           30     2             2            1   \n",
       "3  3.19       115.0        18           22     2             3            1   \n",
       "4  3.19       110.0        19           25     2             2            1   \n",
       "5  3.19       110.0        19           25     2             2            1   \n",
       "\n",
       "     price  \n",
       "0  16500.0  \n",
       "1  16500.0  \n",
       "2  13950.0  \n",
       "3  17450.0  \n",
       "4  15250.0  \n",
       "5  17710.0  "
      ]
     },
     "execution_count": 419,
     "metadata": {},
     "output_type": "execute_result"
    }
   ],
   "source": [
    "car_price['make'] = car_price['make'].replace(['alfa-romero', 'audi', 'bmw', 'chevrolet', 'dodge', 'honda', 'isuzu',\\\n",
    "                                             'jaguar', 'mazda', 'mercedes-benz', 'mercury', 'mitsubishi', 'nissan',\\\n",
    "                                             'peugot', 'plymouth', 'porsche', 'renault', 'saab', 'subaru', 'toyota',\\\n",
    "                                             'volkswagen', 'volvo'],[1,2,3,4,5,6,7,8,9,10,11,12,13,14,15,16,17,18,19,20,21,22])\n",
    "car_price['drive-wheels'] = car_price['drive-wheels'].replace(['rwd', 'fwd', '4wd'],[1,2,3])\n",
    "car_price['fuel-system'] = car_price['fuel-system'].replace(['mpfi', '2bbl', 'mfi', '1bbl', 'spfi', '4bbl', 'idi', 'spdi'],\\\n",
    "                                                         [1,2,3,4,5,6,7,8])\n",
    "\n",
    "car_price.head(6)"
   ]
  },
  {
   "cell_type": "code",
   "execution_count": 420,
   "id": "2145d5ce",
   "metadata": {},
   "outputs": [
    {
     "data": {
      "text/plain": [
       "<AxesSubplot:xlabel='highway-mpg', ylabel='price'>"
      ]
     },
     "execution_count": 420,
     "metadata": {},
     "output_type": "execute_result"
    },
    {
     "data": {
      "image/png": "[encoded data removed]",
      "text/plain": [
       "<Figure size 1296x864 with 9 Axes>"
      ]
     },
     "metadata": {
      "needs_background": "light"
     },
     "output_type": "display_data"
    }
   ],
   "source": [
    "# Check outliers các biến\n",
    "fig, axes = plt.subplots(3, 3, figsize=(18,12))\n",
    "\n",
    "sns.regplot(ax=axes[0,0], x = 'wheel-base', y = 'price', data = car_price)\n",
    "sns.regplot(ax=axes[0,1], x = 'length', y = 'price', data = car_price)\n",
    "sns.regplot(ax=axes[0,2], x = 'width', y = 'price', data = car_price)\n",
    "sns.regplot(ax=axes[1,0], x = 'curb-weight', y = 'price', data = car_price)\n",
    "sns.regplot(ax=axes[1,1], x = 'engine-size', y = 'price', data = car_price)\n",
    "sns.regplot(ax=axes[1,2], x = 'bore', y = 'price', data = car_price)\n",
    "sns.regplot(ax=axes[2,0], x = 'horsepower', y = 'price', data = car_price)\n",
    "sns.regplot(ax=axes[2,1], x = 'city-mpg', y = 'price', data = car_price)\n",
    "sns.regplot(ax=axes[2,2], x = 'highway-mpg', y = 'price', data = car_price)"
   ]
  },
  {
   "cell_type": "code",
   "execution_count": 421,
   "id": "0d547752",
   "metadata": {},
   "outputs": [],
   "source": [
    "car_price['horsepower'].loc[(car_price['horsepower'] > 250) & (car_price['price'] < 15000)] = car_price['horsepower'].mean()\n",
    "car_price['wheel-base'].loc[(car_price['wheel-base'] < 95) & (car_price['price'] > 15000)] = car_price['wheel-base'].mean()"
   ]
  },
  {
   "cell_type": "code",
   "execution_count": 422,
   "id": "d2463edd",
   "metadata": {},
   "outputs": [
    {
     "data": {
      "text/plain": [
       "<AxesSubplot:xlabel='highway-mpg', ylabel='price'>"
      ]
     },
     "execution_count": 422,
     "metadata": {},
     "output_type": "execute_result"
    },
    {
     "data": {
      "image/png": "[encoded data removed]",
      "text/plain": [
       "<Figure size 1296x864 with 9 Axes>"
      ]
     },
     "metadata": {
      "needs_background": "light"
     },
     "output_type": "display_data"
    }
   ],
   "source": [
    "fig, axes = plt.subplots(3, 3, figsize=(18,12))\n",
    "\n",
    "sns.regplot(ax=axes[0,0], x = 'wheel-base', y = 'price', data = car_price)\n",
    "sns.regplot(ax=axes[0,1], x = 'length', y = 'price', data = car_price)\n",
    "sns.regplot(ax=axes[0,2], x = 'width', y = 'price', data = car_price)\n",
    "sns.regplot(ax=axes[1,0], x = 'curb-weight', y = 'price', data = car_price)\n",
    "sns.regplot(ax=axes[1,1], x = 'engine-size', y = 'price', data = car_price)\n",
    "sns.regplot(ax=axes[1,2], x = 'bore', y = 'price', data = car_price)\n",
    "sns.regplot(ax=axes[2,0], x = 'horsepower', y = 'price', data = car_price)\n",
    "sns.regplot(ax=axes[2,1], x = 'city-mpg', y = 'price', data = car_price)\n",
    "sns.regplot(ax=axes[2,2], x = 'highway-mpg', y = 'price', data = car_price)"
   ]
  },
  {
   "cell_type": "markdown",
   "id": "9e4883e1",
   "metadata": {},
   "source": [
    "### Linear Regression"
   ]
  },
  {
   "cell_type": "code",
   "execution_count": 423,
   "id": "d69ecaa3",
   "metadata": {},
   "outputs": [],
   "source": [
    "feature_cols = ['wheel-base','length','width','curb-weight','num-of-cylinders','engine-size','bore','horsepower',\\\n",
    "              'city-mpg','highway-mpg','make','drive-wheels','fuel-system']"
   ]
  },
  {
   "cell_type": "code",
   "execution_count": 424,
   "id": "0bc43bf6",
   "metadata": {},
   "outputs": [],
   "source": [
    "price_x = car_price[feature_cols]\n",
    "scaler = preprocessing.StandardScaler().fit(price_x)"
   ]
  },
  {
   "cell_type": "code",
   "execution_count": 425,
   "id": "f8680587",
   "metadata": {},
   "outputs": [
    {
     "data": {
      "text/plain": [
       "array([[-0.05257927, -0.42775636, -0.84833554, ..., -1.97145189,\n",
       "        -1.22071325, -0.68081293],\n",
       "       [-0.05257927, -0.23313735, -0.19457237, ..., -1.97145189,\n",
       "        -1.22071325, -0.68081293],\n",
       "       [ 0.12001423,  0.20475541,  0.13230921, ..., -1.81058142,\n",
       "         0.58381938, -0.68081293],\n",
       "       ...,\n",
       "       [ 1.73542807,  1.1940687 ,  1.39313818, ...,  1.40682807,\n",
       "        -1.22071325, -0.68081293],\n",
       "       [ 1.73542807,  1.1940687 ,  1.39313818, ...,  1.40682807,\n",
       "        -1.22071325,  2.06940168],\n",
       "       [ 1.73542807,  1.1940687 ,  1.39313818, ...,  1.40682807,\n",
       "        -1.22071325, -0.68081293]])"
      ]
     },
     "execution_count": 425,
     "metadata": {},
     "output_type": "execute_result"
    }
   ],
   "source": [
    "price_x_scaled = scaler.transform(price_x)\n",
    "price_x_scaled"
   ]
  },
  {
   "cell_type": "code",
   "execution_count": 426,
   "id": "3dba3536",
   "metadata": {},
   "outputs": [],
   "source": [
    "price_y = np.array(car_price['price']).reshape(-1,1)"
   ]
  },
  {
   "cell_type": "code",
   "execution_count": 427,
   "id": "cde144f6",
   "metadata": {},
   "outputs": [],
   "source": [
    "from sklearn.model_selection import train_test_split \n",
    "price_x_train, price_x_test, price_y_train, price_y_test = train_test_split(price_x_scaled, price_y, test_size=0.2, random_state=0)"
   ]
  },
  {
   "cell_type": "code",
   "execution_count": 428,
   "id": "a2ee368b",
   "metadata": {},
   "outputs": [
    {
     "data": {
      "text/plain": [
       "LinearRegression()"
      ]
     },
     "execution_count": 428,
     "metadata": {},
     "output_type": "execute_result"
    }
   ],
   "source": [
    "from sklearn.linear_model import LinearRegression\n",
    "lin_reg = linear_model.LinearRegression()\n",
    "lin_reg.fit(price_x_train,price_y_train)"
   ]
  },
  {
   "cell_type": "code",
   "execution_count": 429,
   "id": "0d6d6897",
   "metadata": {},
   "outputs": [
    {
     "data": {
      "text/plain": [
       "array([[ 8741.54610468],\n",
       "       [12039.66741654],\n",
       "       [ 7835.89485788],\n",
       "       [10756.94491904],\n",
       "       [21265.26944623],\n",
       "       [ 6672.64953252],\n",
       "       [17624.05751471],\n",
       "       [17088.0258568 ],\n",
       "       [19304.54676721],\n",
       "       [ 3632.28828854],\n",
       "       [11570.44814922],\n",
       "       [ 9117.02112877],\n",
       "       [14355.42111692],\n",
       "       [ 5699.90880676],\n",
       "       [ 5948.09308129],\n",
       "       [19522.61216708],\n",
       "       [11012.20297831],\n",
       "       [11460.01911995],\n",
       "       [ 6884.01083897],\n",
       "       [24146.02909841],\n",
       "       [ 8213.67910223],\n",
       "       [ 8615.1557915 ],\n",
       "       [11573.5796958 ],\n",
       "       [15306.89320364],\n",
       "       [11881.69664698],\n",
       "       [ 8124.8566496 ],\n",
       "       [ 6872.28142767],\n",
       "       [ 8001.85641882],\n",
       "       [ 5703.66666266],\n",
       "       [ 6720.22186993],\n",
       "       [17179.91582664],\n",
       "       [11565.22890492],\n",
       "       [30410.07343977],\n",
       "       [21443.91410938],\n",
       "       [10209.49816509],\n",
       "       [ 9590.16854351],\n",
       "       [23009.35499244],\n",
       "       [ 6914.25771681],\n",
       "       [15107.37688759],\n",
       "       [ 6315.63614027],\n",
       "       [24563.72720325]])"
      ]
     },
     "execution_count": 429,
     "metadata": {},
     "output_type": "execute_result"
    }
   ],
   "source": [
    "price_y_predict =  lin_reg.predict(price_x_test)\n",
    "price_y_predict"
   ]
  },
  {
   "cell_type": "code",
   "execution_count": 430,
   "id": "e7aa4ec2",
   "metadata": {},
   "outputs": [
    {
     "name": "stdout",
     "output_type": "stream",
     "text": [
      "Coefficients: \n",
      " [[ 2267.03170068    57.20120357     5.11680149   108.70223076\n",
      "   -329.29279985  3001.31867372   -56.4323324   3044.83362806\n",
      "    873.86364568   -24.49645816 -1108.91271782  -517.9003402\n",
      "    168.89758959]]\n",
      "Mean squared error: 14084526.18\n",
      "Coefficient of determination: 0.77\n"
     ]
    }
   ],
   "source": [
    "# The coefficients\n",
    "print('Coefficients: \\n', lin_reg.coef_)\n",
    "# The mean squared error\n",
    "print('Mean squared error: %.2f'\n",
    "      % mean_squared_error(price_y_test, price_y_predict))\n",
    "# The coefficient of determination\n",
    "print('Coefficient of determination: %.2f'\n",
    "      % r2_score(price_y_test, price_y_predict))"
   ]
  },
  {
   "cell_type": "markdown",
   "id": "8db7d596",
   "metadata": {},
   "source": [
    "### Polynominal Regression"
   ]
  },
  {
   "cell_type": "code",
   "execution_count": 457,
   "id": "73e55786",
   "metadata": {},
   "outputs": [],
   "source": [
    "from sklearn.preprocessing import PolynomialFeatures\n",
    "poly_reg = PolynomialFeatures(degree=2)\n",
    "price_x_poly = poly_reg.fit_transform(price_x_scaled)\n",
    "\n",
    "price_x_poly_train, price_x_poly_test, price_y_poly_train, price_y_poly_test = train_test_split(price_x_poly, price_y, test_size=0.2, random_state=0)"
   ]
  },
  {
   "cell_type": "code",
   "execution_count": 458,
   "id": "116a3db9",
   "metadata": {},
   "outputs": [
    {
     "data": {
      "text/plain": [
       "LinearRegression()"
      ]
     },
     "execution_count": 458,
     "metadata": {},
     "output_type": "execute_result"
    }
   ],
   "source": [
    "pol_reg = LinearRegression()\n",
    "pol_reg.fit(price_x_poly_train, price_y_poly_train)"
   ]
  },
  {
   "cell_type": "code",
   "execution_count": 459,
   "id": "bf174139",
   "metadata": {},
   "outputs": [
    {
     "data": {
      "text/plain": [
       "array([[11064.],\n",
       "       [18428.],\n",
       "       [ 4996.],\n",
       "       [ 7476.],\n",
       "       [18376.],\n",
       "       [ 5896.],\n",
       "       [22800.],\n",
       "       [26428.],\n",
       "       [22460.],\n",
       "       [32208.],\n",
       "       [ 8716.],\n",
       "       [10080.],\n",
       "       [ 8632.],\n",
       "       [ 8820.],\n",
       "       [ 7688.],\n",
       "       [28612.],\n",
       "       [14044.],\n",
       "       [10712.],\n",
       "       [ 6268.],\n",
       "       [26008.],\n",
       "       [ 8636.],\n",
       "       [ 6652.],\n",
       "       [ 8956.],\n",
       "       [17584.],\n",
       "       [10124.],\n",
       "       [ 5580.],\n",
       "       [12720.],\n",
       "       [ 7724.],\n",
       "       [ 8800.],\n",
       "       [ 7300.],\n",
       "       [11352.],\n",
       "       [ 8300.],\n",
       "       [44164.],\n",
       "       [31828.],\n",
       "       [ 7260.],\n",
       "       [ 6804.],\n",
       "       [  356.],\n",
       "       [ 6328.],\n",
       "       [10236.],\n",
       "       [ 6416.],\n",
       "       [32992.]])"
      ]
     },
     "execution_count": 459,
     "metadata": {},
     "output_type": "execute_result"
    }
   ],
   "source": [
    "price_y_poly_predict = pol_reg.predict(price_x_poly_test)\n",
    "price_y_poly_predict"
   ]
  },
  {
   "cell_type": "code",
   "execution_count": 460,
   "id": "b145624f",
   "metadata": {},
   "outputs": [
    {
     "name": "stdout",
     "output_type": "stream",
     "text": [
      "Coefficients: \n",
      " [[ 2.01004686e+16 -1.27661016e+03  2.69909019e+03  8.97339433e+02\n",
      "   1.33479436e+03 -2.46443598e+03  3.01544918e+03 -1.47324746e+03\n",
      "   1.69166724e+03  2.50417764e+03 -1.07259445e+03 -1.30965951e+03\n",
      "  -8.43206016e+01 -2.25310319e+03  3.19158650e+03 -4.71109414e+03\n",
      "   3.57187814e+03 -4.34939234e+03  1.36500781e+04 -1.46944533e+04\n",
      "   9.19410565e+03  4.58309114e+03  4.96435753e+03 -1.82221022e+03\n",
      "  -2.12600566e+03  4.35826884e+03 -4.80376286e+02  1.76366546e+03\n",
      "  -2.91171926e+03  1.27666412e+04 -1.70878453e+03 -4.63838643e+03\n",
      "  -4.81907939e+03  1.08751353e+03  4.59157469e+03 -2.86506688e+03\n",
      "   7.47169204e+02  2.77483491e+02  1.65729449e+03  5.60860918e+02\n",
      "  -6.46916193e+03 -4.04193151e+03  6.35438399e+03 -8.80831583e+02\n",
      "  -1.26686250e+03  2.24768715e+03 -3.17096755e+03 -1.75167173e+03\n",
      "  -2.99980437e+03 -1.45741480e+03 -5.88124263e+03 -1.37496113e+04\n",
      "   1.79400893e+04 -2.65009296e+03 -3.55396388e+03 -1.29880902e+04\n",
      "   4.99161622e+03 -1.51574739e+03 -3.72557869e+03  3.36606998e+03\n",
      "  -1.86204309e+03  1.05269076e+04 -5.25298116e+03 -5.10940488e+02\n",
      "  -6.43004163e+03  6.19474010e+03  2.80851232e+03 -5.51805784e+03\n",
      "  -1.78944260e+03 -5.21805077e+03  5.94274300e+03 -2.18799339e+03\n",
      "  -8.01269839e+03  8.86575973e+03  3.43664170e+02  4.75399060e+03\n",
      "   2.97744756e+03 -1.81739530e+03 -2.62566148e+02 -8.77812859e+02\n",
      "   3.89834876e+03  1.42221573e+03 -4.31830571e+03 -6.08375712e+03\n",
      "   3.42438961e+03  9.77760049e+03 -7.83880193e+03 -8.29474831e+02\n",
      "   1.05709500e+03 -1.44873684e+02 -5.71587802e+03  8.73300531e+03\n",
      "   2.49186258e+03 -1.78537905e+03  2.34461203e+03 -2.64141913e+03\n",
      "  -4.56897763e+03 -9.98536549e+02 -1.92671797e+03  9.21206434e+02\n",
      "   2.88170316e+03  6.93590940e+02  1.41481041e+03 -9.18385815e+02\n",
      "   5.82285061e+02]]\n",
      "Mean squared error: 60962484.24\n",
      "Coefficient of determination: 0.02\n"
     ]
    }
   ],
   "source": [
    "# The coefficients\n",
    "print('Coefficients: \\n', pol_reg.coef_)\n",
    "# The mean squared error\n",
    "print('Mean squared error: %.2f'\n",
    "      % mean_squared_error(price_y_poly_test, price_y_poly_predict))\n",
    "# The coefficient of determination\n",
    "print('Coefficient of determination: %.2f'\n",
    "      % r2_score(price_y_poly_test, price_y_poly_predict))"
   ]
  },
  {
   "cell_type": "markdown",
   "id": "50909a88",
   "metadata": {},
   "source": [
    "#  Predict Loan Pay Off ( Logistic Regression )"
   ]
  },
  {
   "cell_type": "code",
   "execution_count": 475,
   "id": "03e9171b",
   "metadata": {},
   "outputs": [
    {
     "data": {
      "text/html": [
       "<div>\n",
       "<style scoped>\n",
       "    .dataframe tbody tr th:only-of-type {\n",
       "        vertical-align: middle;\n",
       "    }\n",
       "\n",
       "    .dataframe tbody tr th {\n",
       "        vertical-align: top;\n",
       "    }\n",
       "\n",
       "    .dataframe thead th {\n",
       "        text-align: right;\n",
       "    }\n",
       "</style>\n",
       "<table border=\"1\" class=\"dataframe\">\n",
       "  <thead>\n",
       "    <tr style=\"text-align: right;\">\n",
       "      <th></th>\n",
       "      <th>Unnamed: 0</th>\n",
       "      <th>Unnamed: 0.1</th>\n",
       "      <th>loan_status</th>\n",
       "      <th>Principal</th>\n",
       "      <th>terms</th>\n",
       "      <th>effective_date</th>\n",
       "      <th>due_date</th>\n",
       "      <th>age</th>\n",
       "      <th>education</th>\n",
       "      <th>Gender</th>\n",
       "    </tr>\n",
       "  </thead>\n",
       "  <tbody>\n",
       "    <tr>\n",
       "      <th>0</th>\n",
       "      <td>0</td>\n",
       "      <td>0</td>\n",
       "      <td>PAIDOFF</td>\n",
       "      <td>1000</td>\n",
       "      <td>30</td>\n",
       "      <td>9/8/2016</td>\n",
       "      <td>10/7/2016</td>\n",
       "      <td>45</td>\n",
       "      <td>High School or Below</td>\n",
       "      <td>male</td>\n",
       "    </tr>\n",
       "    <tr>\n",
       "      <th>1</th>\n",
       "      <td>2</td>\n",
       "      <td>2</td>\n",
       "      <td>PAIDOFF</td>\n",
       "      <td>1000</td>\n",
       "      <td>30</td>\n",
       "      <td>9/8/2016</td>\n",
       "      <td>10/7/2016</td>\n",
       "      <td>33</td>\n",
       "      <td>Bechalor</td>\n",
       "      <td>female</td>\n",
       "    </tr>\n",
       "    <tr>\n",
       "      <th>2</th>\n",
       "      <td>3</td>\n",
       "      <td>3</td>\n",
       "      <td>PAIDOFF</td>\n",
       "      <td>1000</td>\n",
       "      <td>15</td>\n",
       "      <td>9/8/2016</td>\n",
       "      <td>9/22/2016</td>\n",
       "      <td>27</td>\n",
       "      <td>college</td>\n",
       "      <td>male</td>\n",
       "    </tr>\n",
       "    <tr>\n",
       "      <th>3</th>\n",
       "      <td>4</td>\n",
       "      <td>4</td>\n",
       "      <td>PAIDOFF</td>\n",
       "      <td>1000</td>\n",
       "      <td>30</td>\n",
       "      <td>9/9/2016</td>\n",
       "      <td>10/8/2016</td>\n",
       "      <td>28</td>\n",
       "      <td>college</td>\n",
       "      <td>female</td>\n",
       "    </tr>\n",
       "    <tr>\n",
       "      <th>4</th>\n",
       "      <td>6</td>\n",
       "      <td>6</td>\n",
       "      <td>PAIDOFF</td>\n",
       "      <td>1000</td>\n",
       "      <td>30</td>\n",
       "      <td>9/9/2016</td>\n",
       "      <td>10/8/2016</td>\n",
       "      <td>29</td>\n",
       "      <td>college</td>\n",
       "      <td>male</td>\n",
       "    </tr>\n",
       "    <tr>\n",
       "      <th>5</th>\n",
       "      <td>7</td>\n",
       "      <td>7</td>\n",
       "      <td>PAIDOFF</td>\n",
       "      <td>1000</td>\n",
       "      <td>30</td>\n",
       "      <td>9/9/2016</td>\n",
       "      <td>10/8/2016</td>\n",
       "      <td>36</td>\n",
       "      <td>college</td>\n",
       "      <td>male</td>\n",
       "    </tr>\n",
       "  </tbody>\n",
       "</table>\n",
       "</div>"
      ],
      "text/plain": [
       "   Unnamed: 0  Unnamed: 0.1 loan_status  Principal  terms effective_date  \\\n",
       "0           0             0     PAIDOFF       1000     30       9/8/2016   \n",
       "1           2             2     PAIDOFF       1000     30       9/8/2016   \n",
       "2           3             3     PAIDOFF       1000     15       9/8/2016   \n",
       "3           4             4     PAIDOFF       1000     30       9/9/2016   \n",
       "4           6             6     PAIDOFF       1000     30       9/9/2016   \n",
       "5           7             7     PAIDOFF       1000     30       9/9/2016   \n",
       "\n",
       "    due_date  age             education  Gender  \n",
       "0  10/7/2016   45  High School or Below    male  \n",
       "1  10/7/2016   33              Bechalor  female  \n",
       "2  9/22/2016   27               college    male  \n",
       "3  10/8/2016   28               college  female  \n",
       "4  10/8/2016   29               college    male  \n",
       "5  10/8/2016   36               college    male  "
      ]
     },
     "execution_count": 475,
     "metadata": {},
     "output_type": "execute_result"
    }
   ],
   "source": [
    "loan = pd.read_csv('C:\\\\Users\\\\Admin\\\\Desktop\\\\DA11\\\\Lesson7+8\\\\loan_train.csv')\n",
    "loan.head(6)"
   ]
  },
  {
   "cell_type": "code",
   "execution_count": 476,
   "id": "30295c3b",
   "metadata": {},
   "outputs": [
    {
     "data": {
      "text/html": [
       "<div>\n",
       "<style scoped>\n",
       "    .dataframe tbody tr th:only-of-type {\n",
       "        vertical-align: middle;\n",
       "    }\n",
       "\n",
       "    .dataframe tbody tr th {\n",
       "        vertical-align: top;\n",
       "    }\n",
       "\n",
       "    .dataframe thead th {\n",
       "        text-align: right;\n",
       "    }\n",
       "</style>\n",
       "<table border=\"1\" class=\"dataframe\">\n",
       "  <thead>\n",
       "    <tr style=\"text-align: right;\">\n",
       "      <th></th>\n",
       "      <th>loan_status</th>\n",
       "      <th>principal</th>\n",
       "      <th>terms</th>\n",
       "      <th>effective_date</th>\n",
       "      <th>due_date</th>\n",
       "      <th>age</th>\n",
       "      <th>education</th>\n",
       "      <th>gender</th>\n",
       "    </tr>\n",
       "  </thead>\n",
       "  <tbody>\n",
       "    <tr>\n",
       "      <th>0</th>\n",
       "      <td>PAIDOFF</td>\n",
       "      <td>1000</td>\n",
       "      <td>30</td>\n",
       "      <td>9/8/2016</td>\n",
       "      <td>10/7/2016</td>\n",
       "      <td>45</td>\n",
       "      <td>High School or Below</td>\n",
       "      <td>male</td>\n",
       "    </tr>\n",
       "    <tr>\n",
       "      <th>1</th>\n",
       "      <td>PAIDOFF</td>\n",
       "      <td>1000</td>\n",
       "      <td>30</td>\n",
       "      <td>9/8/2016</td>\n",
       "      <td>10/7/2016</td>\n",
       "      <td>33</td>\n",
       "      <td>Bechalor</td>\n",
       "      <td>female</td>\n",
       "    </tr>\n",
       "    <tr>\n",
       "      <th>2</th>\n",
       "      <td>PAIDOFF</td>\n",
       "      <td>1000</td>\n",
       "      <td>15</td>\n",
       "      <td>9/8/2016</td>\n",
       "      <td>9/22/2016</td>\n",
       "      <td>27</td>\n",
       "      <td>college</td>\n",
       "      <td>male</td>\n",
       "    </tr>\n",
       "    <tr>\n",
       "      <th>3</th>\n",
       "      <td>PAIDOFF</td>\n",
       "      <td>1000</td>\n",
       "      <td>30</td>\n",
       "      <td>9/9/2016</td>\n",
       "      <td>10/8/2016</td>\n",
       "      <td>28</td>\n",
       "      <td>college</td>\n",
       "      <td>female</td>\n",
       "    </tr>\n",
       "    <tr>\n",
       "      <th>4</th>\n",
       "      <td>PAIDOFF</td>\n",
       "      <td>1000</td>\n",
       "      <td>30</td>\n",
       "      <td>9/9/2016</td>\n",
       "      <td>10/8/2016</td>\n",
       "      <td>29</td>\n",
       "      <td>college</td>\n",
       "      <td>male</td>\n",
       "    </tr>\n",
       "    <tr>\n",
       "      <th>5</th>\n",
       "      <td>PAIDOFF</td>\n",
       "      <td>1000</td>\n",
       "      <td>30</td>\n",
       "      <td>9/9/2016</td>\n",
       "      <td>10/8/2016</td>\n",
       "      <td>36</td>\n",
       "      <td>college</td>\n",
       "      <td>male</td>\n",
       "    </tr>\n",
       "  </tbody>\n",
       "</table>\n",
       "</div>"
      ],
      "text/plain": [
       "  loan_status  principal  terms effective_date   due_date  age  \\\n",
       "0     PAIDOFF       1000     30       9/8/2016  10/7/2016   45   \n",
       "1     PAIDOFF       1000     30       9/8/2016  10/7/2016   33   \n",
       "2     PAIDOFF       1000     15       9/8/2016  9/22/2016   27   \n",
       "3     PAIDOFF       1000     30       9/9/2016  10/8/2016   28   \n",
       "4     PAIDOFF       1000     30       9/9/2016  10/8/2016   29   \n",
       "5     PAIDOFF       1000     30       9/9/2016  10/8/2016   36   \n",
       "\n",
       "              education  gender  \n",
       "0  High School or Below    male  \n",
       "1              Bechalor  female  \n",
       "2               college    male  \n",
       "3               college  female  \n",
       "4               college    male  \n",
       "5               college    male  "
      ]
     },
     "execution_count": 476,
     "metadata": {},
     "output_type": "execute_result"
    }
   ],
   "source": [
    "# Bỏ một số cột thừa và đổi tên columns\n",
    "loan.drop(columns = ['Unnamed: 0','Unnamed: 0.1'], inplace = True)\n",
    "loan = loan.rename(columns={'Principal':'principal', 'Gender': 'gender'})\n",
    "loan.head(6)"
   ]
  },
  {
   "cell_type": "code",
   "execution_count": 485,
   "id": "9e062ecc",
   "metadata": {},
   "outputs": [
    {
     "data": {
      "text/html": [
       "<div>\n",
       "<style scoped>\n",
       "    .dataframe tbody tr th:only-of-type {\n",
       "        vertical-align: middle;\n",
       "    }\n",
       "\n",
       "    .dataframe tbody tr th {\n",
       "        vertical-align: top;\n",
       "    }\n",
       "\n",
       "    .dataframe thead th {\n",
       "        text-align: right;\n",
       "    }\n",
       "</style>\n",
       "<table border=\"1\" class=\"dataframe\">\n",
       "  <thead>\n",
       "    <tr style=\"text-align: right;\">\n",
       "      <th></th>\n",
       "      <th>loan_status</th>\n",
       "      <th>principal</th>\n",
       "      <th>terms</th>\n",
       "      <th>age</th>\n",
       "      <th>education</th>\n",
       "      <th>gender</th>\n",
       "      <th>effective_time</th>\n",
       "    </tr>\n",
       "  </thead>\n",
       "  <tbody>\n",
       "    <tr>\n",
       "      <th>0</th>\n",
       "      <td>PAIDOFF</td>\n",
       "      <td>1000</td>\n",
       "      <td>30</td>\n",
       "      <td>45</td>\n",
       "      <td>High School or Below</td>\n",
       "      <td>male</td>\n",
       "      <td>29</td>\n",
       "    </tr>\n",
       "    <tr>\n",
       "      <th>1</th>\n",
       "      <td>PAIDOFF</td>\n",
       "      <td>1000</td>\n",
       "      <td>30</td>\n",
       "      <td>33</td>\n",
       "      <td>Bechalor</td>\n",
       "      <td>female</td>\n",
       "      <td>29</td>\n",
       "    </tr>\n",
       "    <tr>\n",
       "      <th>2</th>\n",
       "      <td>PAIDOFF</td>\n",
       "      <td>1000</td>\n",
       "      <td>15</td>\n",
       "      <td>27</td>\n",
       "      <td>college</td>\n",
       "      <td>male</td>\n",
       "      <td>14</td>\n",
       "    </tr>\n",
       "    <tr>\n",
       "      <th>3</th>\n",
       "      <td>PAIDOFF</td>\n",
       "      <td>1000</td>\n",
       "      <td>30</td>\n",
       "      <td>28</td>\n",
       "      <td>college</td>\n",
       "      <td>female</td>\n",
       "      <td>29</td>\n",
       "    </tr>\n",
       "    <tr>\n",
       "      <th>4</th>\n",
       "      <td>PAIDOFF</td>\n",
       "      <td>1000</td>\n",
       "      <td>30</td>\n",
       "      <td>29</td>\n",
       "      <td>college</td>\n",
       "      <td>male</td>\n",
       "      <td>29</td>\n",
       "    </tr>\n",
       "    <tr>\n",
       "      <th>5</th>\n",
       "      <td>PAIDOFF</td>\n",
       "      <td>1000</td>\n",
       "      <td>30</td>\n",
       "      <td>36</td>\n",
       "      <td>college</td>\n",
       "      <td>male</td>\n",
       "      <td>29</td>\n",
       "    </tr>\n",
       "  </tbody>\n",
       "</table>\n",
       "</div>"
      ],
      "text/plain": [
       "  loan_status  principal  terms  age             education  gender  \\\n",
       "0     PAIDOFF       1000     30   45  High School or Below    male   \n",
       "1     PAIDOFF       1000     30   33              Bechalor  female   \n",
       "2     PAIDOFF       1000     15   27               college    male   \n",
       "3     PAIDOFF       1000     30   28               college  female   \n",
       "4     PAIDOFF       1000     30   29               college    male   \n",
       "5     PAIDOFF       1000     30   36               college    male   \n",
       "\n",
       "   effective_time  \n",
       "0              29  \n",
       "1              29  \n",
       "2              14  \n",
       "3              29  \n",
       "4              29  \n",
       "5              29  "
      ]
     },
     "execution_count": 485,
     "metadata": {},
     "output_type": "execute_result"
    }
   ],
   "source": [
    "# Thêm cột effective_time là khoảng thời gian giữa effective_date và due_date\n",
    "loan['effective_date'] = pd.to_datetime(loan['effective_date'])\n",
    "loan['due_date'] = pd.to_datetime(loan['due_date'])\n",
    "loan['effective_time'] = (loan['due_date'] - loan['effective_date']).dt.days\n",
    "loan.drop(columns = ['effective_date','due_date'], inplace = True)\n",
    "loan.head(6)"
   ]
  },
  {
   "cell_type": "code",
   "execution_count": 490,
   "id": "ad6844f9",
   "metadata": {},
   "outputs": [
    {
     "name": "stdout",
     "output_type": "stream",
     "text": [
      "<class 'pandas.core.frame.DataFrame'>\n",
      "RangeIndex: 346 entries, 0 to 345\n",
      "Data columns (total 7 columns):\n",
      " #   Column          Non-Null Count  Dtype \n",
      "---  ------          --------------  ----- \n",
      " 0   loan_status     346 non-null    object\n",
      " 1   principal       346 non-null    int64 \n",
      " 2   terms           346 non-null    int64 \n",
      " 3   age             346 non-null    int64 \n",
      " 4   education       346 non-null    object\n",
      " 5   gender          346 non-null    object\n",
      " 6   effective_time  346 non-null    int64 \n",
      "dtypes: int64(4), object(3)\n",
      "memory usage: 19.0+ KB\n"
     ]
    }
   ],
   "source": [
    "loan.info()"
   ]
  },
  {
   "cell_type": "code",
   "execution_count": 491,
   "id": "29d7da24",
   "metadata": {},
   "outputs": [
    {
     "data": {
      "text/html": [
       "<div>\n",
       "<style scoped>\n",
       "    .dataframe tbody tr th:only-of-type {\n",
       "        vertical-align: middle;\n",
       "    }\n",
       "\n",
       "    .dataframe tbody tr th {\n",
       "        vertical-align: top;\n",
       "    }\n",
       "\n",
       "    .dataframe thead th {\n",
       "        text-align: right;\n",
       "    }\n",
       "</style>\n",
       "<table border=\"1\" class=\"dataframe\">\n",
       "  <thead>\n",
       "    <tr style=\"text-align: right;\">\n",
       "      <th></th>\n",
       "      <th>principal</th>\n",
       "      <th>terms</th>\n",
       "      <th>age</th>\n",
       "      <th>effective_time</th>\n",
       "    </tr>\n",
       "  </thead>\n",
       "  <tbody>\n",
       "    <tr>\n",
       "      <th>count</th>\n",
       "      <td>346.000000</td>\n",
       "      <td>346.000000</td>\n",
       "      <td>346.000000</td>\n",
       "      <td>346.000000</td>\n",
       "    </tr>\n",
       "    <tr>\n",
       "      <th>mean</th>\n",
       "      <td>943.641618</td>\n",
       "      <td>22.653179</td>\n",
       "      <td>30.939306</td>\n",
       "      <td>23.361272</td>\n",
       "    </tr>\n",
       "    <tr>\n",
       "      <th>std</th>\n",
       "      <td>109.425530</td>\n",
       "      <td>7.991006</td>\n",
       "      <td>6.039418</td>\n",
       "      <td>10.602958</td>\n",
       "    </tr>\n",
       "    <tr>\n",
       "      <th>min</th>\n",
       "      <td>300.000000</td>\n",
       "      <td>7.000000</td>\n",
       "      <td>18.000000</td>\n",
       "      <td>6.000000</td>\n",
       "    </tr>\n",
       "    <tr>\n",
       "      <th>25%</th>\n",
       "      <td>900.000000</td>\n",
       "      <td>15.000000</td>\n",
       "      <td>27.000000</td>\n",
       "      <td>14.000000</td>\n",
       "    </tr>\n",
       "    <tr>\n",
       "      <th>50%</th>\n",
       "      <td>1000.000000</td>\n",
       "      <td>30.000000</td>\n",
       "      <td>30.000000</td>\n",
       "      <td>29.000000</td>\n",
       "    </tr>\n",
       "    <tr>\n",
       "      <th>75%</th>\n",
       "      <td>1000.000000</td>\n",
       "      <td>30.000000</td>\n",
       "      <td>35.000000</td>\n",
       "      <td>29.000000</td>\n",
       "    </tr>\n",
       "    <tr>\n",
       "      <th>max</th>\n",
       "      <td>1000.000000</td>\n",
       "      <td>30.000000</td>\n",
       "      <td>51.000000</td>\n",
       "      <td>59.000000</td>\n",
       "    </tr>\n",
       "  </tbody>\n",
       "</table>\n",
       "</div>"
      ],
      "text/plain": [
       "         principal       terms         age  effective_time\n",
       "count   346.000000  346.000000  346.000000      346.000000\n",
       "mean    943.641618   22.653179   30.939306       23.361272\n",
       "std     109.425530    7.991006    6.039418       10.602958\n",
       "min     300.000000    7.000000   18.000000        6.000000\n",
       "25%     900.000000   15.000000   27.000000       14.000000\n",
       "50%    1000.000000   30.000000   30.000000       29.000000\n",
       "75%    1000.000000   30.000000   35.000000       29.000000\n",
       "max    1000.000000   30.000000   51.000000       59.000000"
      ]
     },
     "execution_count": 491,
     "metadata": {},
     "output_type": "execute_result"
    }
   ],
   "source": [
    "loan.describe()"
   ]
  },
  {
   "cell_type": "code",
   "execution_count": 512,
   "id": "69b02469",
   "metadata": {},
   "outputs": [
    {
     "data": {
      "text/plain": [
       "<AxesSubplot:xlabel='loan_status', ylabel='count'>"
      ]
     },
     "execution_count": 512,
     "metadata": {},
     "output_type": "execute_result"
    },
    {
     "data": {
      "image/png": "[encoded data removed]",
      "text/plain": [
       "<Figure size 432x288 with 1 Axes>"
      ]
     },
     "metadata": {
      "needs_background": "light"
     },
     "output_type": "display_data"
    }
   ],
   "source": [
    "sns.countplot(loan['loan_status'])"
   ]
  },
  {
   "cell_type": "code",
   "execution_count": 489,
   "id": "682fd0e6",
   "metadata": {},
   "outputs": [
    {
     "data": {
      "text/plain": [
       "array(['High School or Below', 'Bechalor', 'college', 'Master or Above'],\n",
       "      dtype=object)"
      ]
     },
     "execution_count": 489,
     "metadata": {},
     "output_type": "execute_result"
    }
   ],
   "source": [
    "loan['education'].unique()"
   ]
  },
  {
   "cell_type": "code",
   "execution_count": 497,
   "id": "8d849b78",
   "metadata": {},
   "outputs": [
    {
     "data": {
      "text/html": [
       "<div>\n",
       "<style scoped>\n",
       "    .dataframe tbody tr th:only-of-type {\n",
       "        vertical-align: middle;\n",
       "    }\n",
       "\n",
       "    .dataframe tbody tr th {\n",
       "        vertical-align: top;\n",
       "    }\n",
       "\n",
       "    .dataframe thead th {\n",
       "        text-align: right;\n",
       "    }\n",
       "</style>\n",
       "<table border=\"1\" class=\"dataframe\">\n",
       "  <thead>\n",
       "    <tr style=\"text-align: right;\">\n",
       "      <th></th>\n",
       "      <th>loan_status</th>\n",
       "      <th>principal</th>\n",
       "      <th>terms</th>\n",
       "      <th>age</th>\n",
       "      <th>education</th>\n",
       "      <th>gender</th>\n",
       "      <th>effective_time</th>\n",
       "    </tr>\n",
       "  </thead>\n",
       "  <tbody>\n",
       "    <tr>\n",
       "      <th>0</th>\n",
       "      <td>0</td>\n",
       "      <td>1000</td>\n",
       "      <td>30</td>\n",
       "      <td>45</td>\n",
       "      <td>1</td>\n",
       "      <td>0</td>\n",
       "      <td>29</td>\n",
       "    </tr>\n",
       "    <tr>\n",
       "      <th>1</th>\n",
       "      <td>0</td>\n",
       "      <td>1000</td>\n",
       "      <td>30</td>\n",
       "      <td>33</td>\n",
       "      <td>2</td>\n",
       "      <td>1</td>\n",
       "      <td>29</td>\n",
       "    </tr>\n",
       "    <tr>\n",
       "      <th>2</th>\n",
       "      <td>0</td>\n",
       "      <td>1000</td>\n",
       "      <td>15</td>\n",
       "      <td>27</td>\n",
       "      <td>3</td>\n",
       "      <td>0</td>\n",
       "      <td>14</td>\n",
       "    </tr>\n",
       "    <tr>\n",
       "      <th>3</th>\n",
       "      <td>0</td>\n",
       "      <td>1000</td>\n",
       "      <td>30</td>\n",
       "      <td>28</td>\n",
       "      <td>3</td>\n",
       "      <td>1</td>\n",
       "      <td>29</td>\n",
       "    </tr>\n",
       "    <tr>\n",
       "      <th>4</th>\n",
       "      <td>0</td>\n",
       "      <td>1000</td>\n",
       "      <td>30</td>\n",
       "      <td>29</td>\n",
       "      <td>3</td>\n",
       "      <td>0</td>\n",
       "      <td>29</td>\n",
       "    </tr>\n",
       "    <tr>\n",
       "      <th>5</th>\n",
       "      <td>0</td>\n",
       "      <td>1000</td>\n",
       "      <td>30</td>\n",
       "      <td>36</td>\n",
       "      <td>3</td>\n",
       "      <td>0</td>\n",
       "      <td>29</td>\n",
       "    </tr>\n",
       "  </tbody>\n",
       "</table>\n",
       "</div>"
      ],
      "text/plain": [
       "   loan_status  principal  terms  age  education  gender  effective_time\n",
       "0            0       1000     30   45          1       0              29\n",
       "1            0       1000     30   33          2       1              29\n",
       "2            0       1000     15   27          3       0              14\n",
       "3            0       1000     30   28          3       1              29\n",
       "4            0       1000     30   29          3       0              29\n",
       "5            0       1000     30   36          3       0              29"
      ]
     },
     "execution_count": 497,
     "metadata": {},
     "output_type": "execute_result"
    }
   ],
   "source": [
    "loan['education'] = loan['education'].replace(['High School or Below', 'Bechalor', 'college', 'Master or Above'],[1,2,3,4])\n",
    "loan['gender'] = loan['gender'].replace(['male', 'female'],[0,1])\n",
    "loan['loan_status'] = loan['loan_status'].replace(['PAIDOFF', 'COLLECTION'],[0,1])\n",
    "loan.head(6)"
   ]
  },
  {
   "cell_type": "code",
   "execution_count": 498,
   "id": "efc3c093",
   "metadata": {},
   "outputs": [],
   "source": [
    "features = ['principal', 'terms', 'age', 'education', 'gender', 'effective_time']\n",
    "loan_x = loan[features]"
   ]
  },
  {
   "cell_type": "code",
   "execution_count": 499,
   "id": "00ce7260",
   "metadata": {},
   "outputs": [
    {
     "data": {
      "text/plain": [
       "StandardScaler()"
      ]
     },
     "execution_count": 499,
     "metadata": {},
     "output_type": "execute_result"
    }
   ],
   "source": [
    "scaler_x = preprocessing.StandardScaler().fit(loan_x)\n",
    "scaler_x"
   ]
  },
  {
   "cell_type": "code",
   "execution_count": 500,
   "id": "068aa8df",
   "metadata": {},
   "outputs": [
    {
     "data": {
      "text/plain": [
       "array([[ 0.51578458,  0.92071769,  2.33152555, -1.06604119, -0.42056004,\n",
       "         0.53257725],\n",
       "       [ 0.51578458,  0.92071769,  0.34170148, -0.00612667,  2.37778177,\n",
       "         0.53257725],\n",
       "       [ 0.51578458, -0.95911111, -0.65321055,  1.05378785, -0.42056004,\n",
       "        -0.88417105],\n",
       "       ...,\n",
       "       [-1.31458942, -0.95911111,  1.33661351,  1.05378785, -0.42056004,\n",
       "        -0.88417105],\n",
       "       [ 0.51578458,  0.92071769, -0.48739188,  1.05378785, -0.42056004,\n",
       "         3.36607386],\n",
       "       [ 0.51578458,  0.92071769, -0.81902922,  1.05378785, -0.42056004,\n",
       "         0.53257725]])"
      ]
     },
     "execution_count": 500,
     "metadata": {},
     "output_type": "execute_result"
    }
   ],
   "source": [
    "loan_x_scaled = scaler_x.transform(loan_x)\n",
    "loan_x_scaled"
   ]
  },
  {
   "cell_type": "code",
   "execution_count": 501,
   "id": "7d0b7f9c",
   "metadata": {},
   "outputs": [],
   "source": [
    "loan_y = loan['loan_status']"
   ]
  },
  {
   "cell_type": "code",
   "execution_count": 502,
   "id": "624a13be",
   "metadata": {},
   "outputs": [],
   "source": [
    "loan_x_train, loan_x_test, loan_y_train, loan_y_test = train_test_split(loan_x_scaled, loan_y ,test_size=0.25,random_state=0)"
   ]
  },
  {
   "cell_type": "code",
   "execution_count": 503,
   "id": "a2085ed4",
   "metadata": {},
   "outputs": [],
   "source": [
    "from sklearn.linear_model import LogisticRegression\n",
    "logreg = LogisticRegression(solver='lbfgs', max_iter=1000)"
   ]
  },
  {
   "cell_type": "code",
   "execution_count": 504,
   "id": "319544ef",
   "metadata": {},
   "outputs": [],
   "source": [
    "lr = logreg.fit(loan_x_train, loan_y_train)"
   ]
  },
  {
   "cell_type": "code",
   "execution_count": 505,
   "id": "64d096b4",
   "metadata": {},
   "outputs": [
    {
     "name": "stdout",
     "output_type": "stream",
     "text": [
      "[0 0 0 0 0 0 0 0 0 0 0 0 0 0 0 0 0 0 0 0 0 0 0 0 0 0 0 1 0 0 0 0 0 0 0 0 0\n",
      " 0 0 0 0 0 0 0 0 0 0 0 0 0 0 0 0 0 0 0 1 1 0 0 0 0 0 0 0 0 1 0 0 0 0 0 0 0\n",
      " 0 0 0 0 0 0 1 0 0 0 0 0 0]\n"
     ]
    }
   ],
   "source": [
    "loan_y_pred = logreg.predict(loan_x_test)\n",
    "print(loan_y_pred)"
   ]
  },
  {
   "cell_type": "code",
   "execution_count": 506,
   "id": "3d0d96fb",
   "metadata": {},
   "outputs": [
    {
     "data": {
      "text/plain": [
       "0.8275862068965517"
      ]
     },
     "execution_count": 506,
     "metadata": {},
     "output_type": "execute_result"
    }
   ],
   "source": [
    "lr.score(loan_x_test,loan_y_test)"
   ]
  },
  {
   "cell_type": "code",
   "execution_count": 507,
   "id": "228c4aa7",
   "metadata": {},
   "outputs": [
    {
     "data": {
      "text/plain": [
       "array([[70,  3],\n",
       "       [12,  2]], dtype=int64)"
      ]
     },
     "execution_count": 507,
     "metadata": {},
     "output_type": "execute_result"
    }
   ],
   "source": [
    "from sklearn import metrics\n",
    "cnf_matrix = metrics.confusion_matrix(loan_y_test, loan_y_pred)\n",
    "cnf_matrix"
   ]
  },
  {
   "cell_type": "code",
   "execution_count": 508,
   "id": "79a19e11",
   "metadata": {},
   "outputs": [
    {
     "data": {
      "text/plain": [
       "Text(0.5, 257.44, 'Predicted label')"
      ]
     },
     "execution_count": 508,
     "metadata": {},
     "output_type": "execute_result"
    },
    {
     "data": {
      "image/png": "[encoded data removed]",
      "text/plain": [
       "<Figure size 432x288 with 2 Axes>"
      ]
     },
     "metadata": {
      "needs_background": "light"
     },
     "output_type": "display_data"
    }
   ],
   "source": [
    "class_names=[0,1] # name  of classes\n",
    "fig, ax = plt.subplots()\n",
    "tick_marks = np.arange(len(class_names))\n",
    "plt.xticks(tick_marks, class_names)\n",
    "plt.yticks(tick_marks, class_names)\n",
    "# create heatmap\n",
    "sns.heatmap(pd.DataFrame(cnf_matrix), annot=True, cmap=\"YlGnBu\" ,fmt='g')\n",
    "ax.xaxis.set_label_position(\"top\")\n",
    "plt.tight_layout()\n",
    "plt.title('Confusion matrix', y=1.1)\n",
    "plt.ylabel('Actual label')\n",
    "plt.xlabel('Predicted label')"
   ]
  },
  {
   "cell_type": "markdown",
   "id": "e3b67a08",
   "metadata": {},
   "source": [
    "# Test 4 : Wine Classification"
   ]
  },
  {
   "cell_type": "code",
   "execution_count": 510,
   "id": "aa255a12",
   "metadata": {},
   "outputs": [
    {
     "data": {
      "text/html": [
       "<div>\n",
       "<style scoped>\n",
       "    .dataframe tbody tr th:only-of-type {\n",
       "        vertical-align: middle;\n",
       "    }\n",
       "\n",
       "    .dataframe tbody tr th {\n",
       "        vertical-align: top;\n",
       "    }\n",
       "\n",
       "    .dataframe thead th {\n",
       "        text-align: right;\n",
       "    }\n",
       "</style>\n",
       "<table border=\"1\" class=\"dataframe\">\n",
       "  <thead>\n",
       "    <tr style=\"text-align: right;\">\n",
       "      <th></th>\n",
       "      <th>Type</th>\n",
       "      <th>Alcohol</th>\n",
       "      <th>Malic acid</th>\n",
       "      <th>Ash</th>\n",
       "      <th>Alcalinity of ash</th>\n",
       "      <th>Magnesium</th>\n",
       "      <th>Total Phenols</th>\n",
       "      <th>Flavanoids</th>\n",
       "      <th>Nonflavanoids phenols</th>\n",
       "      <th>Proanthocyanins</th>\n",
       "      <th>Color intensify</th>\n",
       "      <th>Hue</th>\n",
       "      <th>OD280/OD315 of diluted wines</th>\n",
       "      <th>Proline</th>\n",
       "    </tr>\n",
       "  </thead>\n",
       "  <tbody>\n",
       "    <tr>\n",
       "      <th>0</th>\n",
       "      <td>1</td>\n",
       "      <td>13.20</td>\n",
       "      <td>1.78</td>\n",
       "      <td>2.14</td>\n",
       "      <td>11.2</td>\n",
       "      <td>100</td>\n",
       "      <td>2.65</td>\n",
       "      <td>2.76</td>\n",
       "      <td>0.26</td>\n",
       "      <td>1.28</td>\n",
       "      <td>4.38</td>\n",
       "      <td>1.05</td>\n",
       "      <td>3.40</td>\n",
       "      <td>1050</td>\n",
       "    </tr>\n",
       "    <tr>\n",
       "      <th>1</th>\n",
       "      <td>1</td>\n",
       "      <td>13.16</td>\n",
       "      <td>2.36</td>\n",
       "      <td>2.67</td>\n",
       "      <td>18.6</td>\n",
       "      <td>101</td>\n",
       "      <td>2.80</td>\n",
       "      <td>3.24</td>\n",
       "      <td>0.30</td>\n",
       "      <td>2.81</td>\n",
       "      <td>5.68</td>\n",
       "      <td>1.03</td>\n",
       "      <td>3.17</td>\n",
       "      <td>1185</td>\n",
       "    </tr>\n",
       "    <tr>\n",
       "      <th>2</th>\n",
       "      <td>1</td>\n",
       "      <td>14.37</td>\n",
       "      <td>1.95</td>\n",
       "      <td>2.50</td>\n",
       "      <td>16.8</td>\n",
       "      <td>113</td>\n",
       "      <td>3.85</td>\n",
       "      <td>3.49</td>\n",
       "      <td>0.24</td>\n",
       "      <td>2.18</td>\n",
       "      <td>7.80</td>\n",
       "      <td>0.86</td>\n",
       "      <td>3.45</td>\n",
       "      <td>1480</td>\n",
       "    </tr>\n",
       "    <tr>\n",
       "      <th>3</th>\n",
       "      <td>1</td>\n",
       "      <td>13.24</td>\n",
       "      <td>2.59</td>\n",
       "      <td>2.87</td>\n",
       "      <td>21.0</td>\n",
       "      <td>118</td>\n",
       "      <td>2.80</td>\n",
       "      <td>2.69</td>\n",
       "      <td>0.39</td>\n",
       "      <td>1.82</td>\n",
       "      <td>4.32</td>\n",
       "      <td>1.04</td>\n",
       "      <td>2.93</td>\n",
       "      <td>735</td>\n",
       "    </tr>\n",
       "    <tr>\n",
       "      <th>4</th>\n",
       "      <td>1</td>\n",
       "      <td>14.20</td>\n",
       "      <td>1.76</td>\n",
       "      <td>2.45</td>\n",
       "      <td>15.2</td>\n",
       "      <td>112</td>\n",
       "      <td>3.27</td>\n",
       "      <td>3.39</td>\n",
       "      <td>0.34</td>\n",
       "      <td>1.97</td>\n",
       "      <td>6.75</td>\n",
       "      <td>1.05</td>\n",
       "      <td>2.85</td>\n",
       "      <td>1450</td>\n",
       "    </tr>\n",
       "    <tr>\n",
       "      <th>5</th>\n",
       "      <td>1</td>\n",
       "      <td>14.39</td>\n",
       "      <td>1.87</td>\n",
       "      <td>2.45</td>\n",
       "      <td>14.6</td>\n",
       "      <td>96</td>\n",
       "      <td>2.50</td>\n",
       "      <td>2.52</td>\n",
       "      <td>0.30</td>\n",
       "      <td>1.98</td>\n",
       "      <td>5.25</td>\n",
       "      <td>1.02</td>\n",
       "      <td>3.58</td>\n",
       "      <td>1290</td>\n",
       "    </tr>\n",
       "  </tbody>\n",
       "</table>\n",
       "</div>"
      ],
      "text/plain": [
       "   Type  Alcohol  Malic acid   Ash  Alcalinity of ash  Magnesium  \\\n",
       "0     1    13.20        1.78  2.14               11.2        100   \n",
       "1     1    13.16        2.36  2.67               18.6        101   \n",
       "2     1    14.37        1.95  2.50               16.8        113   \n",
       "3     1    13.24        2.59  2.87               21.0        118   \n",
       "4     1    14.20        1.76  2.45               15.2        112   \n",
       "5     1    14.39        1.87  2.45               14.6         96   \n",
       "\n",
       "   Total Phenols  Flavanoids  Nonflavanoids phenols  Proanthocyanins  \\\n",
       "0           2.65        2.76                   0.26             1.28   \n",
       "1           2.80        3.24                   0.30             2.81   \n",
       "2           3.85        3.49                   0.24             2.18   \n",
       "3           2.80        2.69                   0.39             1.82   \n",
       "4           3.27        3.39                   0.34             1.97   \n",
       "5           2.50        2.52                   0.30             1.98   \n",
       "\n",
       "   Color intensify   Hue  OD280/OD315 of diluted wines  Proline  \n",
       "0             4.38  1.05                          3.40     1050  \n",
       "1             5.68  1.03                          3.17     1185  \n",
       "2             7.80  0.86                          3.45     1480  \n",
       "3             4.32  1.04                          2.93      735  \n",
       "4             6.75  1.05                          2.85     1450  \n",
       "5             5.25  1.02                          3.58     1290  "
      ]
     },
     "execution_count": 510,
     "metadata": {},
     "output_type": "execute_result"
    }
   ],
   "source": [
    "wine = pd.read_csv('C:\\\\Users\\\\Admin\\\\Desktop\\\\DA11\\\\Lesson7+8\\\\wine.csv')\n",
    "wine.columns = ['Type','Alcohol','Malic acid','Ash', 'Alcalinity of ash','Magnesium','Total Phenols','Flavanoids',\\\n",
    "                'Nonflavanoids phenols','Proanthocyanins','Color intensify','Hue','OD280/OD315 of diluted wines','Proline']\n",
    "wine.head(6)"
   ]
  },
  {
   "cell_type": "code",
   "execution_count": 511,
   "id": "a28b15d0",
   "metadata": {},
   "outputs": [
    {
     "name": "stdout",
     "output_type": "stream",
     "text": [
      "<class 'pandas.core.frame.DataFrame'>\n",
      "RangeIndex: 177 entries, 0 to 176\n",
      "Data columns (total 14 columns):\n",
      " #   Column                        Non-Null Count  Dtype  \n",
      "---  ------                        --------------  -----  \n",
      " 0   Type                          177 non-null    int64  \n",
      " 1   Alcohol                       177 non-null    float64\n",
      " 2   Malic acid                    177 non-null    float64\n",
      " 3   Ash                           177 non-null    float64\n",
      " 4   Alcalinity of ash             177 non-null    float64\n",
      " 5   Magnesium                     177 non-null    int64  \n",
      " 6   Total Phenols                 177 non-null    float64\n",
      " 7   Flavanoids                    177 non-null    float64\n",
      " 8   Nonflavanoids phenols         177 non-null    float64\n",
      " 9   Proanthocyanins               177 non-null    float64\n",
      " 10  Color intensify               177 non-null    float64\n",
      " 11  Hue                           177 non-null    float64\n",
      " 12  OD280/OD315 of diluted wines  177 non-null    float64\n",
      " 13  Proline                       177 non-null    int64  \n",
      "dtypes: float64(11), int64(3)\n",
      "memory usage: 19.5 KB\n"
     ]
    }
   ],
   "source": [
    "wine.info()"
   ]
  },
  {
   "cell_type": "code",
   "execution_count": 513,
   "id": "634c6f6f",
   "metadata": {},
   "outputs": [
    {
     "data": {
      "text/html": [
       "<div>\n",
       "<style scoped>\n",
       "    .dataframe tbody tr th:only-of-type {\n",
       "        vertical-align: middle;\n",
       "    }\n",
       "\n",
       "    .dataframe tbody tr th {\n",
       "        vertical-align: top;\n",
       "    }\n",
       "\n",
       "    .dataframe thead th {\n",
       "        text-align: right;\n",
       "    }\n",
       "</style>\n",
       "<table border=\"1\" class=\"dataframe\">\n",
       "  <thead>\n",
       "    <tr style=\"text-align: right;\">\n",
       "      <th></th>\n",
       "      <th>Type</th>\n",
       "      <th>Alcohol</th>\n",
       "      <th>Malic acid</th>\n",
       "      <th>Ash</th>\n",
       "      <th>Alcalinity of ash</th>\n",
       "      <th>Magnesium</th>\n",
       "      <th>Total Phenols</th>\n",
       "      <th>Flavanoids</th>\n",
       "      <th>Nonflavanoids phenols</th>\n",
       "      <th>Proanthocyanins</th>\n",
       "      <th>Color intensify</th>\n",
       "      <th>Hue</th>\n",
       "      <th>OD280/OD315 of diluted wines</th>\n",
       "      <th>Proline</th>\n",
       "    </tr>\n",
       "  </thead>\n",
       "  <tbody>\n",
       "    <tr>\n",
       "      <th>count</th>\n",
       "      <td>177.000000</td>\n",
       "      <td>177.000000</td>\n",
       "      <td>177.000000</td>\n",
       "      <td>177.000000</td>\n",
       "      <td>177.000000</td>\n",
       "      <td>177.000000</td>\n",
       "      <td>177.000000</td>\n",
       "      <td>177.000000</td>\n",
       "      <td>177.000000</td>\n",
       "      <td>177.000000</td>\n",
       "      <td>177.000000</td>\n",
       "      <td>177.000000</td>\n",
       "      <td>177.000000</td>\n",
       "      <td>177.000000</td>\n",
       "    </tr>\n",
       "    <tr>\n",
       "      <th>mean</th>\n",
       "      <td>1.943503</td>\n",
       "      <td>12.993672</td>\n",
       "      <td>2.339887</td>\n",
       "      <td>2.366158</td>\n",
       "      <td>19.516949</td>\n",
       "      <td>99.587571</td>\n",
       "      <td>2.292260</td>\n",
       "      <td>2.023446</td>\n",
       "      <td>0.362316</td>\n",
       "      <td>1.586949</td>\n",
       "      <td>5.054802</td>\n",
       "      <td>0.956983</td>\n",
       "      <td>2.604294</td>\n",
       "      <td>745.096045</td>\n",
       "    </tr>\n",
       "    <tr>\n",
       "      <th>std</th>\n",
       "      <td>0.773991</td>\n",
       "      <td>0.808808</td>\n",
       "      <td>1.119314</td>\n",
       "      <td>0.275080</td>\n",
       "      <td>3.336071</td>\n",
       "      <td>14.174018</td>\n",
       "      <td>0.626465</td>\n",
       "      <td>0.998658</td>\n",
       "      <td>0.124653</td>\n",
       "      <td>0.571545</td>\n",
       "      <td>2.324446</td>\n",
       "      <td>0.229135</td>\n",
       "      <td>0.705103</td>\n",
       "      <td>314.884046</td>\n",
       "    </tr>\n",
       "    <tr>\n",
       "      <th>min</th>\n",
       "      <td>1.000000</td>\n",
       "      <td>11.030000</td>\n",
       "      <td>0.740000</td>\n",
       "      <td>1.360000</td>\n",
       "      <td>10.600000</td>\n",
       "      <td>70.000000</td>\n",
       "      <td>0.980000</td>\n",
       "      <td>0.340000</td>\n",
       "      <td>0.130000</td>\n",
       "      <td>0.410000</td>\n",
       "      <td>1.280000</td>\n",
       "      <td>0.480000</td>\n",
       "      <td>1.270000</td>\n",
       "      <td>278.000000</td>\n",
       "    </tr>\n",
       "    <tr>\n",
       "      <th>25%</th>\n",
       "      <td>1.000000</td>\n",
       "      <td>12.360000</td>\n",
       "      <td>1.600000</td>\n",
       "      <td>2.210000</td>\n",
       "      <td>17.200000</td>\n",
       "      <td>88.000000</td>\n",
       "      <td>1.740000</td>\n",
       "      <td>1.200000</td>\n",
       "      <td>0.270000</td>\n",
       "      <td>1.250000</td>\n",
       "      <td>3.210000</td>\n",
       "      <td>0.780000</td>\n",
       "      <td>1.930000</td>\n",
       "      <td>500.000000</td>\n",
       "    </tr>\n",
       "    <tr>\n",
       "      <th>50%</th>\n",
       "      <td>2.000000</td>\n",
       "      <td>13.050000</td>\n",
       "      <td>1.870000</td>\n",
       "      <td>2.360000</td>\n",
       "      <td>19.500000</td>\n",
       "      <td>98.000000</td>\n",
       "      <td>2.350000</td>\n",
       "      <td>2.130000</td>\n",
       "      <td>0.340000</td>\n",
       "      <td>1.550000</td>\n",
       "      <td>4.680000</td>\n",
       "      <td>0.960000</td>\n",
       "      <td>2.780000</td>\n",
       "      <td>672.000000</td>\n",
       "    </tr>\n",
       "    <tr>\n",
       "      <th>75%</th>\n",
       "      <td>3.000000</td>\n",
       "      <td>13.670000</td>\n",
       "      <td>3.100000</td>\n",
       "      <td>2.560000</td>\n",
       "      <td>21.500000</td>\n",
       "      <td>107.000000</td>\n",
       "      <td>2.800000</td>\n",
       "      <td>2.860000</td>\n",
       "      <td>0.440000</td>\n",
       "      <td>1.950000</td>\n",
       "      <td>6.200000</td>\n",
       "      <td>1.120000</td>\n",
       "      <td>3.170000</td>\n",
       "      <td>985.000000</td>\n",
       "    </tr>\n",
       "    <tr>\n",
       "      <th>max</th>\n",
       "      <td>3.000000</td>\n",
       "      <td>14.830000</td>\n",
       "      <td>5.800000</td>\n",
       "      <td>3.230000</td>\n",
       "      <td>30.000000</td>\n",
       "      <td>162.000000</td>\n",
       "      <td>3.880000</td>\n",
       "      <td>5.080000</td>\n",
       "      <td>0.660000</td>\n",
       "      <td>3.580000</td>\n",
       "      <td>13.000000</td>\n",
       "      <td>1.710000</td>\n",
       "      <td>4.000000</td>\n",
       "      <td>1680.000000</td>\n",
       "    </tr>\n",
       "  </tbody>\n",
       "</table>\n",
       "</div>"
      ],
      "text/plain": [
       "             Type     Alcohol  Malic acid         Ash  Alcalinity of ash  \\\n",
       "count  177.000000  177.000000  177.000000  177.000000         177.000000   \n",
       "mean     1.943503   12.993672    2.339887    2.366158          19.516949   \n",
       "std      0.773991    0.808808    1.119314    0.275080           3.336071   \n",
       "min      1.000000   11.030000    0.740000    1.360000          10.600000   \n",
       "25%      1.000000   12.360000    1.600000    2.210000          17.200000   \n",
       "50%      2.000000   13.050000    1.870000    2.360000          19.500000   \n",
       "75%      3.000000   13.670000    3.100000    2.560000          21.500000   \n",
       "max      3.000000   14.830000    5.800000    3.230000          30.000000   \n",
       "\n",
       "        Magnesium  Total Phenols  Flavanoids  Nonflavanoids phenols  \\\n",
       "count  177.000000     177.000000  177.000000             177.000000   \n",
       "mean    99.587571       2.292260    2.023446               0.362316   \n",
       "std     14.174018       0.626465    0.998658               0.124653   \n",
       "min     70.000000       0.980000    0.340000               0.130000   \n",
       "25%     88.000000       1.740000    1.200000               0.270000   \n",
       "50%     98.000000       2.350000    2.130000               0.340000   \n",
       "75%    107.000000       2.800000    2.860000               0.440000   \n",
       "max    162.000000       3.880000    5.080000               0.660000   \n",
       "\n",
       "       Proanthocyanins  Color intensify         Hue  \\\n",
       "count       177.000000       177.000000  177.000000   \n",
       "mean          1.586949         5.054802    0.956983   \n",
       "std           0.571545         2.324446    0.229135   \n",
       "min           0.410000         1.280000    0.480000   \n",
       "25%           1.250000         3.210000    0.780000   \n",
       "50%           1.550000         4.680000    0.960000   \n",
       "75%           1.950000         6.200000    1.120000   \n",
       "max           3.580000        13.000000    1.710000   \n",
       "\n",
       "       OD280/OD315 of diluted wines      Proline  \n",
       "count                    177.000000   177.000000  \n",
       "mean                       2.604294   745.096045  \n",
       "std                        0.705103   314.884046  \n",
       "min                        1.270000   278.000000  \n",
       "25%                        1.930000   500.000000  \n",
       "50%                        2.780000   672.000000  \n",
       "75%                        3.170000   985.000000  \n",
       "max                        4.000000  1680.000000  "
      ]
     },
     "execution_count": 513,
     "metadata": {},
     "output_type": "execute_result"
    }
   ],
   "source": [
    "wine.describe()"
   ]
  },
  {
   "cell_type": "code",
   "execution_count": 523,
   "id": "f5e281ef",
   "metadata": {},
   "outputs": [
    {
     "data": {
      "text/plain": [
       "<AxesSubplot:xlabel='Type', ylabel='count'>"
      ]
     },
     "execution_count": 523,
     "metadata": {},
     "output_type": "execute_result"
    },
    {
     "data": {
      "image/png": "[encoded data removed]",
      "text/plain": [
       "<Figure size 432x288 with 1 Axes>"
      ]
     },
     "metadata": {
      "needs_background": "light"
     },
     "output_type": "display_data"
    }
   ],
   "source": [
    "sns.countplot(wine['Type'])"
   ]
  },
  {
   "cell_type": "code",
   "execution_count": 516,
   "id": "53525057",
   "metadata": {},
   "outputs": [
    {
     "data": {
      "text/plain": [
       "array([[1.320e+01, 1.780e+00, 2.140e+00, ..., 1.050e+00, 3.400e+00,\n",
       "        1.050e+03],\n",
       "       [1.316e+01, 2.360e+00, 2.670e+00, ..., 1.030e+00, 3.170e+00,\n",
       "        1.185e+03],\n",
       "       [1.437e+01, 1.950e+00, 2.500e+00, ..., 8.600e-01, 3.450e+00,\n",
       "        1.480e+03],\n",
       "       ...,\n",
       "       [1.327e+01, 4.280e+00, 2.260e+00, ..., 5.900e-01, 1.560e+00,\n",
       "        8.350e+02],\n",
       "       [1.317e+01, 2.590e+00, 2.370e+00, ..., 6.000e-01, 1.620e+00,\n",
       "        8.400e+02],\n",
       "       [1.413e+01, 4.100e+00, 2.740e+00, ..., 6.100e-01, 1.600e+00,\n",
       "        5.600e+02]])"
      ]
     },
     "execution_count": 516,
     "metadata": {},
     "output_type": "execute_result"
    }
   ],
   "source": [
    "wine_y = wine['Type'].values\n",
    "wine_x = wine.iloc[:,1:].values"
   ]
  },
  {
   "cell_type": "code",
   "execution_count": 517,
   "id": "e1308e8e",
   "metadata": {},
   "outputs": [
    {
     "data": {
      "text/plain": [
       "array([[ 0.2558245 , -0.50162433, -0.8244853 , ...,  0.40709978,\n",
       "         1.13169801,  0.97105248],\n",
       "       [ 0.20622873,  0.01802001,  1.10768971, ...,  0.3195674 ,\n",
       "         0.80457911,  1.40099798],\n",
       "       [ 1.70650069, -0.34931478,  0.48793547, ..., -0.4244579 ,\n",
       "         1.20281081,  2.34050852],\n",
       "       ...,\n",
       "       [ 0.34261709,  1.73822194, -0.38701171, ..., -1.60614514,\n",
       "        -1.48525319,  0.28632445],\n",
       "       [ 0.21862767,  0.22408586,  0.01400575, ..., -1.56237895,\n",
       "        -1.39991783,  0.30224836],\n",
       "       [ 1.40892609,  1.57695301,  1.36288264, ..., -1.51861275,\n",
       "        -1.42836295, -0.58949046]])"
      ]
     },
     "execution_count": 517,
     "metadata": {},
     "output_type": "execute_result"
    }
   ],
   "source": [
    "wine_x_scaled = preprocessing.StandardScaler().fit(wine_x).transform(wine_x)\n",
    "wine_x_scaled"
   ]
  },
  {
   "cell_type": "code",
   "execution_count": 518,
   "id": "d1e98c0f",
   "metadata": {},
   "outputs": [],
   "source": [
    "wine_x_train, wine_x_test, wine_y_train, wine_y_test = train_test_split(wine_x_scaled, wine_y, test_size=0.3, random_state=0)"
   ]
  },
  {
   "cell_type": "markdown",
   "id": "91fbe8fc",
   "metadata": {},
   "source": [
    "### Sử dụng Naive Bayes"
   ]
  },
  {
   "cell_type": "code",
   "execution_count": 520,
   "id": "001555d1",
   "metadata": {},
   "outputs": [
    {
     "data": {
      "text/plain": [
       "array([1, 3, 2, 1, 2, 2, 1, 3, 2, 2, 3, 3, 1, 2, 3, 2, 1, 1, 2, 1, 2, 1,\n",
       "       1, 2, 2, 2, 2, 2, 2, 3, 1, 1, 3, 1, 1, 1, 3, 2, 2, 3, 2, 1, 2, 2,\n",
       "       2, 1, 3, 2, 3, 1, 3, 3, 1, 3], dtype=int64)"
      ]
     },
     "execution_count": 520,
     "metadata": {},
     "output_type": "execute_result"
    }
   ],
   "source": [
    "from sklearn.naive_bayes import GaussianNB\n",
    "gnb = GaussianNB()\n",
    "wine_y_pred = gnb.fit(wine_x_train, wine_y_train).predict(wine_x_test)\n",
    "wine_y_pred"
   ]
  },
  {
   "cell_type": "code",
   "execution_count": 521,
   "id": "0c077689",
   "metadata": {},
   "outputs": [
    {
     "name": "stdout",
     "output_type": "stream",
     "text": [
      "Number of mislabeled points out of a total 54 points : 1\n"
     ]
    }
   ],
   "source": [
    "print(\"Number of mislabeled points out of a total %d points : %d\"% (wine_x_test.shape[0], (wine_y_test != wine_y_pred).sum()))"
   ]
  },
  {
   "cell_type": "code",
   "execution_count": 522,
   "id": "fdb2532c",
   "metadata": {},
   "outputs": [
    {
     "data": {
      "text/plain": [
       "0.9814814814814815"
      ]
     },
     "execution_count": 522,
     "metadata": {},
     "output_type": "execute_result"
    }
   ],
   "source": [
    "from sklearn.metrics import accuracy_score\n",
    "accuracy_score(wine_y_test, wine_y_pred)"
   ]
  },
  {
   "cell_type": "markdown",
   "id": "8359f002",
   "metadata": {},
   "source": [
    "### Sử dụng Logistic Regression"
   ]
  },
  {
   "cell_type": "code",
   "execution_count": 524,
   "id": "df7a9115",
   "metadata": {},
   "outputs": [],
   "source": [
    "log_reg = LogisticRegression(solver='lbfgs', max_iter=1000)\n",
    "logr = log_reg.fit(wine_x_train, wine_y_train)"
   ]
  },
  {
   "cell_type": "code",
   "execution_count": 525,
   "id": "d5df7f5e",
   "metadata": {},
   "outputs": [
    {
     "name": "stdout",
     "output_type": "stream",
     "text": [
      "[1 3 2 1 2 2 1 3 2 2 3 3 1 2 3 2 1 1 2 1 2 1 1 2 2 2 2 2 2 3 1 1 3 1 1 1 3\n",
      " 2 2 3 1 1 2 2 2 1 3 2 3 1 3 3 1 3]\n"
     ]
    }
   ],
   "source": [
    "wine_y_pred_log = log_reg.predict(wine_x_test)\n",
    "print(wine_y_pred_log)"
   ]
  },
  {
   "cell_type": "code",
   "execution_count": 526,
   "id": "873e1896",
   "metadata": {},
   "outputs": [
    {
     "name": "stdout",
     "output_type": "stream",
     "text": [
      "Number of mislabeled points out of a total 54 points : 0\n"
     ]
    }
   ],
   "source": [
    "print(\"Number of mislabeled points out of a total %d points : %d\"% (wine_x_test.shape[0], (wine_y_test != wine_y_pred_log).sum()))"
   ]
  },
  {
   "cell_type": "code",
   "execution_count": 527,
   "id": "14771c4b",
   "metadata": {},
   "outputs": [
    {
     "data": {
      "text/plain": [
       "1.0"
      ]
     },
     "execution_count": 527,
     "metadata": {},
     "output_type": "execute_result"
    }
   ],
   "source": [
    "accuracy_score(wine_y_test, wine_y_pred_log)"
   ]
  }
 ],
 "metadata": {
  "kernelspec": {
   "display_name": "Python 3",
   "language": "python",
   "name": "python3"
  },
  "language_info": {
   "codemirror_mode": {
    "name": "ipython",
    "version": 3
   },
   "file_extension": ".py",
   "mimetype": "text/x-python",
   "name": "python",
   "nbconvert_exporter": "python",
   "pygments_lexer": "ipython3",
   "version": "3.8.8"
  }
 },
 "nbformat": 4,
 "nbformat_minor": 5
}
